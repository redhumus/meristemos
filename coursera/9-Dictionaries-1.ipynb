{
 "cells": [
  {
   "cell_type": "markdown",
   "metadata": {},
   "source": [
    "# Dictionaries\n",
    "\n",
    "## Associative arrays (PERL - PHP)\n",
    "## Properties or Map or Hashmap (JAVA)\n",
    "## Property bag (C++ / .Net)"
   ]
  },
  {
   "cell_type": "code",
   "execution_count": 5,
   "metadata": {},
   "outputs": [
    {
     "name": "stdout",
     "output_type": "stream",
     "text": [
      "{'Money': 12, 'Candy': 3, 'Tissues': 75}\n",
      "3\n",
      "{'Money': 12, 'Candy': 5, 'Tissues': 75}\n"
     ]
    }
   ],
   "source": [
    "purse = dict()\n",
    "purse['Money'] = 12\n",
    "purse['Candy'] = 3\n",
    "purse['Tissues'] = 75\n",
    "print(purse)\n",
    "print(purse['Candy'])\n",
    "#Modificar diccionario Purse\n",
    "purse['Candy'] = purse['Candy'] + 2\n",
    "print(purse)"
   ]
  },
  {
   "cell_type": "markdown",
   "metadata": {},
   "source": [
    "# Comparing lists and dictionaries\n",
    "## Dictionaries are like lists except that they use keys instead of numbers to look up values"
   ]
  },
  {
   "cell_type": "code",
   "execution_count": 6,
   "metadata": {},
   "outputs": [
    {
     "name": "stdout",
     "output_type": "stream",
     "text": [
      "[21, 183]\n",
      "[23, 183]\n"
     ]
    }
   ],
   "source": [
    "# Lista: NO se pueden borrar registros. Son ordenados\n",
    "lst = list()\n",
    "lst.append(21)\n",
    "lst.append(183)\n",
    "print(lst)\n",
    "lst[0] = 23\n",
    "print(lst)"
   ]
  },
  {
   "cell_type": "code",
   "execution_count": 8,
   "metadata": {},
   "outputs": [
    {
     "name": "stdout",
     "output_type": "stream",
     "text": [
      "{'age': 21, 'course': 182}\n",
      "{'age': 23, 'course': 182}\n"
     ]
    }
   ],
   "source": [
    "# Diccionario. \n",
    "ddd = dict()\n",
    "ddd['age'] = 21\n",
    "ddd['course'] = 182\n",
    "print(ddd)\n",
    "\n",
    "ddd['age'] = 23\n",
    "print(ddd)"
   ]
  },
  {
   "cell_type": "markdown",
   "metadata": {},
   "source": [
    "## Dictioary literals (Constants)\n",
    "    - Dictionary literals use curly braces and have a listo of key:value pairs\n",
    "    - You can make an empty dictionary using empty curly braces"
   ]
  },
  {
   "cell_type": "code",
   "execution_count": 10,
   "metadata": {},
   "outputs": [
    {
     "name": "stdout",
     "output_type": "stream",
     "text": [
      "{'chuck': 1, 'fred': 42, 'jan': 100}\n",
      "{}\n"
     ]
    }
   ],
   "source": [
    "jjj = {'chuck' : 1 , 'fred' : 42, 'jan' : 100}\n",
    "print(jjj)\n",
    "\n",
    "ooo = {}\n",
    "print(ooo)"
   ]
  },
  {
   "cell_type": "markdown",
   "metadata": {},
   "source": [
    "# Resolving problems\n",
    "## Most common word?\n",
    "## Histogram"
   ]
  },
  {
   "cell_type": "code",
   "execution_count": 12,
   "metadata": {},
   "outputs": [
    {
     "name": "stdout",
     "output_type": "stream",
     "text": [
      "{'Mario': 1, 'Oscar': 1}\n",
      "{'Mario': 2, 'Oscar': 1}\n"
     ]
    }
   ],
   "source": [
    "# Count how ofte w see something\n",
    "ccc = dict()\n",
    "ccc['Mario'] = 1\n",
    "ccc['Oscar'] = 1\n",
    "print(ccc)\n",
    "ccc['Mario'] = ccc['Mario'] + 1\n",
    "print(ccc)"
   ]
  },
  {
   "cell_type": "markdown",
   "metadata": {},
   "source": [
    "## Dictionary tracebaks\n",
    "- It is an error to reference a key which is not in the dictionary\n",
    "- We can use the in operator to see if a key si in the dictionary"
   ]
  },
  {
   "cell_type": "code",
   "execution_count": 17,
   "metadata": {},
   "outputs": [
    {
     "data": {
      "text/plain": [
       "True"
      ]
     },
     "execution_count": 17,
     "metadata": {},
     "output_type": "execute_result"
    }
   ],
   "source": [
    "ccc = dict()\n",
    "# print(ccc['Mario'])\n",
    "'Mario' in ccc\n",
    "'Mario' not in ccc"
   ]
  },
  {
   "cell_type": "markdown",
   "metadata": {},
   "source": [
    "## When we see a New Name\n",
    "When we encounter a new name, we need to add a new entry in the dictionary and if this the second or later time we have seen the name, we simply add one to the count in the dictionary under that name"
   ]
  },
  {
   "cell_type": "code",
   "execution_count": 18,
   "metadata": {},
   "outputs": [
    {
     "name": "stdout",
     "output_type": "stream",
     "text": [
      "{'Mario': 1, 'Oscar': 1, 'Jennifer': 1, 'Ricardo': 1}\n"
     ]
    }
   ],
   "source": [
    "counts = dict()\n",
    "names = ['Mario', 'Oscar', 'Jennifer' , 'Ricardo']\n",
    "for name in names :\n",
    "    if name not in counts:\n",
    "        counts[name] = 1\n",
    "    else :\n",
    "        counts[name] = counts[name] + 1\n",
    "print(counts)"
   ]
  },
  {
   "cell_type": "markdown",
   "metadata": {},
   "source": [
    "# The get method for dictionaries\n",
    "The pattern of cheking to see if a key is already in a dictionary and assuming a default value if the key is not ther is so common that ther is a method called get() that does this for us.\n",
    "Default vaule if key does not exist (and no Traceback)"
   ]
  },
  {
   "cell_type": "code",
   "execution_count": 21,
   "metadata": {},
   "outputs": [
    {
     "name": "stdout",
     "output_type": "stream",
     "text": [
      "{}\n"
     ]
    }
   ],
   "source": [
    "# Explicación \n",
    "\n",
    "\n",
    "if name in counts:\n",
    "    x = counts[name]\n",
    "else :\n",
    "    x = 0\n",
    "    \n",
    "x = counts.get(name, 0)\n",
    "\n",
    "print(counts)"
   ]
  },
  {
   "cell_type": "code",
   "execution_count": 22,
   "metadata": {},
   "outputs": [
    {
     "name": "stdout",
     "output_type": "stream",
     "text": [
      "{'Mario': 1}\n",
      "{'Mario': 1, 'Oscar': 1}\n",
      "{'Mario': 1, 'Oscar': 1, 'Jennifer': 1}\n",
      "{'Mario': 1, 'Oscar': 1, 'Jennifer': 1, 'Ricardo': 1}\n"
     ]
    }
   ],
   "source": [
    "counts = dict()\n",
    "names = ['Mario', 'Oscar', 'Jennifer' , 'Ricardo']\n",
    "\n",
    "for name in names :\n",
    "# If y Else en un sólo method\n",
    "    counts[name] = counts.get(name, 0) + 1\n",
    "    print(counts)"
   ]
  },
  {
   "cell_type": "code",
   "execution_count": 24,
   "metadata": {},
   "outputs": [
    {
     "name": "stdin",
     "output_type": "stream",
     "text": [
      "Diga un nombre:    MIguel\n"
     ]
    },
    {
     "name": "stdout",
     "output_type": "stream",
     "text": [
      "{'Mario': 1, 'Oscar': 1, 'Jennifer': 1, 'Ricardo': 1, 'MIguel': 1}\n"
     ]
    }
   ],
   "source": [
    "#traigo del anterior y ahora meto lo mio: Que el nuevo nombre entre:\n",
    "counts = dict()\n",
    "names = ['Mario', 'Oscar', 'Jennifer' , 'Ricardo']\n",
    "\n",
    "nuevo = input('Diga un nombre:   ')\n",
    "\n",
    "names.append(nuevo)\n",
    "\n",
    "for name in names :\n",
    "# If y Else en un sólo method\n",
    "    counts[name] = counts.get(name, 0) + 1\n",
    "\n",
    "print(counts)"
   ]
  },
  {
   "cell_type": "markdown",
   "metadata": {},
   "source": [
    "# Programa completo contador de palabras"
   ]
  },
  {
   "cell_type": "code",
   "execution_count": 26,
   "metadata": {},
   "outputs": [
    {
     "name": "stdout",
     "output_type": "stream",
     "text": [
      "Digite una linea de texto: \n"
     ]
    },
    {
     "name": "stdin",
     "output_type": "stream",
     "text": [
      " No hay nada que no pueda decirse y puede decirse la nada como nadie dice nada pues es mejor quedarse callado para no molestar a nadie\n"
     ]
    },
    {
     "name": "stdout",
     "output_type": "stream",
     "text": [
      "Words ['No', 'hay', 'nada', 'que', 'no', 'pueda', 'decirse', 'y', 'puede', 'decirse', 'la', 'nada', 'como', 'nadie', 'dice', 'nada', 'pues', 'es', 'mejor', 'quedarse', 'callado', 'para', 'no', 'molestar', 'a', 'nadie']\n",
      "Counting...\n",
      "Counts {'No': 1, 'hay': 1, 'nada': 3, 'que': 1, 'no': 2, 'pueda': 1, 'decirse': 2, 'y': 1, 'puede': 1, 'la': 1, 'como': 1, 'nadie': 2, 'dice': 1, 'pues': 1, 'es': 1, 'mejor': 1, 'quedarse': 1, 'callado': 1, 'para': 1, 'molestar': 1, 'a': 1}\n"
     ]
    }
   ],
   "source": [
    "counts = dict()\n",
    "print('Digite una linea de texto: ')\n",
    "line = input('')\n",
    "\n",
    "words = line.split()\n",
    "\n",
    "print('Words', words)\n",
    "\n",
    "print('Counting...')\n",
    "for word in words:\n",
    "    counts[word] = counts.get(word, 0) + 1\n",
    "print('Counts', counts)"
   ]
  }
 ],
 "metadata": {
  "kernelspec": {
   "display_name": "Python 3",
   "language": "python",
   "name": "python3"
  },
  "language_info": {
   "codemirror_mode": {
    "name": "ipython",
    "version": 3
   },
   "file_extension": ".py",
   "mimetype": "text/x-python",
   "name": "python",
   "nbconvert_exporter": "python",
   "pygments_lexer": "ipython3",
   "version": "3.7.3"
  }
 },
 "nbformat": 4,
 "nbformat_minor": 4
}
