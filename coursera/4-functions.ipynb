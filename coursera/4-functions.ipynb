{
 "cells": [
  {
   "cell_type": "markdown",
   "metadata": {},
   "source": [
    "# Funciones en Python:\n",
    "\n",
    "4.6 Write a program to prompt the user for hours and rate per hour using input to compute gross pay. Pay should be the normal rate for hours up to 40 and time-and-a-half for the hourly rate for all hours worked above 40 hours. Put the logic to do the computation of pay in a function called computepay() and use the function to do the computation. The function should return a value. Use 45 hours and a rate of 10.50 per hour to test the program (the pay should be 498.75). You should use input to read a string and float() to convert the string to a number. Do not worry about error checking the user input unless you want to - you can assume the user types numbers properly. Do not name your variable sum or use the sum() function"
   ]
  },
  {
   "cell_type": "code",
   "execution_count": 16,
   "metadata": {},
   "outputs": [
    {
     "name": "stdin",
     "output_type": "stream",
     "text": [
      "Empleador: Digite la tarifa 10.50\n",
      "Digite las horas trabajadas 45\n"
     ]
    },
    {
     "name": "stdout",
     "output_type": "stream",
     "text": [
      "Horas digitadas: 45 Nota: La tarifa es, $ 10.5 /hora y 5.25 por cada hora después de 40 horas de w\n",
      "Pay 498.75\n"
     ]
    }
   ],
   "source": [
    "rate = input('Empleador: Digite la tarifa')\n",
    "\n",
    "hours = input('Digite las horas trabajadas')\n",
    "\n",
    "\n",
    "try :\n",
    "    r = float(rate)\n",
    "    h = float(hours)\n",
    "except :\n",
    "    print('Digite sólo números')\n",
    "    quit()\n",
    "    \n",
    "\n",
    "def computepay():\n",
    "    \n",
    "    if h > 40:\n",
    "            normales = h * r\n",
    "            extras = (h-40.0)*(r*0.5)\n",
    "            p = normales + extras\n",
    "        \n",
    "    else :\n",
    "           p = h*r \n",
    "    return p\n",
    "\n",
    "print('Horas digitadas:',hours,'Nota: La tarifa es,','$',r, '/hora', 'y', r*0.5,'adicional por cada hora después de 40 horas de w')\n",
    "print('Pay', computepay())\n",
    "    \n",
    "        "
   ]
  },
  {
   "cell_type": "code",
   "execution_count": null,
   "metadata": {},
   "outputs": [],
   "source": []
  },
  {
   "cell_type": "code",
   "execution_count": null,
   "metadata": {},
   "outputs": [],
   "source": []
  }
 ],
 "metadata": {
  "kernelspec": {
   "display_name": "Python 3",
   "language": "python",
   "name": "python3"
  },
  "language_info": {
   "codemirror_mode": {
    "name": "ipython",
    "version": 3
   },
   "file_extension": ".py",
   "mimetype": "text/x-python",
   "name": "python",
   "nbconvert_exporter": "python",
   "pygments_lexer": "ipython3",
   "version": "3.7.3"
  }
 },
 "nbformat": 4,
 "nbformat_minor": 4
}
