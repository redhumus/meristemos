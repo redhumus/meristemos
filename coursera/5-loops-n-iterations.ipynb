{
 "cells": [
  {
   "cell_type": "markdown",
   "metadata": {},
   "source": [
    "# Loops and iterations"
   ]
  },
  {
   "cell_type": "code",
   "execution_count": 2,
   "metadata": {},
   "outputs": [
    {
     "name": "stdout",
     "output_type": "stream",
     "text": [
      "5\n",
      "4\n",
      "3\n",
      "2\n",
      "1\n",
      "Blastoff\n",
      "0\n"
     ]
    }
   ],
   "source": [
    "n = 5\n",
    "\n",
    "while n > 0:\n",
    "    print(n)\n",
    "    n = n - 1\n",
    "print('Blastoff')\n",
    "print(n)"
   ]
  },
  {
   "cell_type": "markdown",
   "metadata": {},
   "source": [
    "# Otro Loop con Break"
   ]
  },
  {
   "cell_type": "code",
   "execution_count": 4,
   "metadata": {},
   "outputs": [
    {
     "name": "stdin",
     "output_type": "stream",
     "text": [
      ">   Done\n"
     ]
    },
    {
     "name": "stdout",
     "output_type": "stream",
     "text": [
      "Done!!!!\n"
     ]
    }
   ],
   "source": [
    "while True:\n",
    "    line = input('>  ')\n",
    "    if line == 'Done' :\n",
    "        break\n",
    "    print(line)\n",
    "    \n",
    "print('Done!!!!')"
   ]
  },
  {
   "cell_type": "markdown",
   "metadata": {},
   "source": [
    "# Otro Loop con Continue"
   ]
  },
  {
   "cell_type": "code",
   "execution_count": null,
   "metadata": {},
   "outputs": [],
   "source": [
    "while True:\n",
    "    line = input('>  ')\n",
    "    if line[0] == '#':\n",
    "        continue\n",
    "        print('Ajá Digitaste #')\n",
    "    if line == 'Done':\n",
    "        break\n",
    "    print(line)\n",
    "print('Done!!!')"
   ]
  },
  {
   "cell_type": "markdown",
   "metadata": {},
   "source": [
    "# Definite Loops"
   ]
  },
  {
   "cell_type": "code",
   "execution_count": 9,
   "metadata": {},
   "outputs": [
    {
     "name": "stdout",
     "output_type": "stream",
     "text": [
      "5\n",
      "4\n",
      "3\n",
      "2\n",
      "1\n",
      "0\n",
      "Blastoff!\n"
     ]
    }
   ],
   "source": [
    "for m in [5,4,3,2,1,0]:\n",
    "    print(m)\n",
    "print('Blastoff!')"
   ]
  },
  {
   "cell_type": "code",
   "execution_count": null,
   "metadata": {},
   "outputs": [],
   "source": [
    "# Otro Definite"
   ]
  },
  {
   "cell_type": "code",
   "execution_count": 10,
   "metadata": {},
   "outputs": [
    {
     "name": "stdout",
     "output_type": "stream",
     "text": [
      "Happy New Year Ami\n",
      "Happy New Year Bruno\n",
      "Happy New Year Lilú\n",
      "Done!\n"
     ]
    }
   ],
   "source": [
    "friends = ['Ami','Bruno','Lilú']\n",
    "for friend in friends :\n",
    "    print('Happy New Year',friend)\n",
    "print('Done!')"
   ]
  },
  {
   "cell_type": "markdown",
   "metadata": {},
   "source": [
    "# Finding the largest value"
   ]
  },
  {
   "cell_type": "code",
   "execution_count": 14,
   "metadata": {},
   "outputs": [
    {
     "name": "stdout",
     "output_type": "stream",
     "text": [
      "Before\n",
      "9\n",
      "41\n",
      "12\n",
      "3\n",
      "74\n",
      "15\n",
      "After\n"
     ]
    }
   ],
   "source": [
    "print('Before')\n",
    "for thing in [9, 41, 12, 3, 74, 15]:\n",
    "    print(thing)\n",
    "print('After')"
   ]
  },
  {
   "cell_type": "code",
   "execution_count": null,
   "metadata": {},
   "outputs": [],
   "source": [
    "# Largest so far"
   ]
  },
  {
   "cell_type": "code",
   "execution_count": 20,
   "metadata": {},
   "outputs": [
    {
     "name": "stdout",
     "output_type": "stream",
     "text": [
      "Before -1\n",
      "9 9\n",
      "41 41\n",
      "41 12\n",
      "41 3\n",
      "74 74\n",
      "74 15\n",
      "After 74\n"
     ]
    }
   ],
   "source": [
    "largest_so_far = -1\n",
    "print('Before',largest_so_far)\n",
    "for the_num in [9, 41, 12, 3, 74, 15]:\n",
    "    if the_num > largest_so_far:\n",
    "        largest_so_far = the_num\n",
    "    print(largest_so_far,the_num)\n",
    "print('After',largest_so_far)"
   ]
  },
  {
   "cell_type": "code",
   "execution_count": null,
   "metadata": {},
   "outputs": [],
   "source": [
    "# Smallest so far"
   ]
  },
  {
   "cell_type": "code",
   "execution_count": 44,
   "metadata": {},
   "outputs": [
    {
     "name": "stdout",
     "output_type": "stream",
     "text": [
      "Before None\n",
      "9 9\n",
      "9 41\n",
      "9 12\n",
      "3 3\n",
      "3 74\n",
      "3 15\n",
      "After 3\n"
     ]
    }
   ],
   "source": [
    "smallest = None\n",
    "print('Before',smallest)\n",
    "for value in [9, 41, 12, 3, 74, 15]:\n",
    "    if smallest is None:\n",
    "       smallest = value\n",
    "    elif value < smallest :\n",
    "       smallest = value\n",
    "    print(smallest,value)\n",
    "\n",
    "print('After',smallest)"
   ]
  },
  {
   "cell_type": "markdown",
   "metadata": {},
   "source": [
    "# Loop idioms. Counting in a loop"
   ]
  },
  {
   "cell_type": "code",
   "execution_count": 23,
   "metadata": {},
   "outputs": [
    {
     "name": "stdout",
     "output_type": "stream",
     "text": [
      "Before 0\n",
      "1 9\n",
      "2 41\n",
      "3 12\n",
      "4 3\n",
      "5 74\n",
      "6 15\n",
      "After 6\n"
     ]
    }
   ],
   "source": [
    "zork = 0\n",
    "print('Before',zork)\n",
    "for thing in [9, 41, 12, 3, 74, 15]:\n",
    "    zork = zork + 1\n",
    "    print(zork,thing)\n",
    "print('After',zork)"
   ]
  },
  {
   "cell_type": "markdown",
   "metadata": {},
   "source": [
    "# Summing"
   ]
  },
  {
   "cell_type": "code",
   "execution_count": 27,
   "metadata": {},
   "outputs": [
    {
     "name": "stdout",
     "output_type": "stream",
     "text": [
      "Before\n",
      "9 9\n",
      "50 41\n",
      "62 12\n",
      "65 3\n",
      "139 74\n",
      "154 15\n",
      "After 154\n"
     ]
    }
   ],
   "source": [
    "print('Before')\n",
    "total = 0\n",
    "for thing in [9, 41, 12, 3, 74, 15]:\n",
    "    total = thing + total\n",
    "    print(total,thing)\n",
    "print('After',total)"
   ]
  },
  {
   "cell_type": "markdown",
   "metadata": {},
   "source": [
    "# Finding Average "
   ]
  },
  {
   "cell_type": "code",
   "execution_count": 29,
   "metadata": {},
   "outputs": [
    {
     "name": "stdout",
     "output_type": "stream",
     "text": [
      "Before Count: 0 Sum: 0\n",
      "1 9 9\n",
      "2 50 41\n",
      "3 62 12\n",
      "4 65 3\n",
      "5 139 74\n",
      "6 154 15\n",
      "After Count: 6 Sum 154 Average: 25.666666666666668\n"
     ]
    }
   ],
   "source": [
    "count = 0\n",
    "sum = 0\n",
    "print('Before','Count:',count,'Sum:',sum)\n",
    "for value in [9, 41, 12, 3, 74, 15]:\n",
    "    count = count + 1\n",
    "    sum = sum + value\n",
    "    print(count,sum,value)\n",
    "print('After','Count:',count,'Sum',sum,'Average:',sum / count)"
   ]
  },
  {
   "cell_type": "markdown",
   "metadata": {},
   "source": [
    "# Findig criteria"
   ]
  },
  {
   "cell_type": "code",
   "execution_count": 34,
   "metadata": {},
   "outputs": [
    {
     "name": "stdout",
     "output_type": "stream",
     "text": [
      "Before\n",
      "Mayor a 20 es: 41\n",
      "Mayor a 20 es: 74\n",
      "After\n"
     ]
    }
   ],
   "source": [
    "mero = 0\n",
    "print('Before')\n",
    "for value in [9, 41, 12, 3, 74, 15]:\n",
    "    if value > 20:\n",
    "        mero = value\n",
    "        print('Mayor a 20 es:',value)\n",
    "print('After')"
   ]
  },
  {
   "cell_type": "code",
   "execution_count": null,
   "metadata": {},
   "outputs": [],
   "source": [
    "# Searching a boolean variable"
   ]
  },
  {
   "cell_type": "code",
   "execution_count": 37,
   "metadata": {},
   "outputs": [
    {
     "name": "stdout",
     "output_type": "stream",
     "text": [
      "Before False\n",
      "True 3\n",
      "After True\n"
     ]
    }
   ],
   "source": [
    "found = False\n",
    "print('Before',found)\n",
    "for value in [9, 41, 12, 3, 74, 15]:\n",
    "    if value == 3:\n",
    "        found = True\n",
    "        print(found,value)\n",
    "print('After',found)"
   ]
  },
  {
   "cell_type": "code",
   "execution_count": null,
   "metadata": {},
   "outputs": [],
   "source": [
    "# Ejercicio"
   ]
  },
  {
   "cell_type": "code",
   "execution_count": 45,
   "metadata": {},
   "outputs": [
    {
     "name": "stdout",
     "output_type": "stream",
     "text": [
      "5\n"
     ]
    }
   ],
   "source": [
    "tot = 0 \n",
    "for i in [5, 4, 3, 2, 1] :\n",
    "    tot = tot + 1\n",
    "print(tot)"
   ]
  },
  {
   "cell_type": "code",
   "execution_count": 46,
   "metadata": {},
   "outputs": [
    {
     "name": "stdout",
     "output_type": "stream",
     "text": [
      "-1\n"
     ]
    }
   ],
   "source": [
    "smallest_so_far = -1\n",
    "for the_num in [9, 41, 12, 3, 74, 15] :\n",
    "   if the_num < smallest_so_far :\n",
    "      smallest_so_far = the_num\n",
    "print(smallest_so_far)"
   ]
  },
  {
   "cell_type": "code",
   "execution_count": 47,
   "metadata": {},
   "outputs": [
    {
     "name": "stdout",
     "output_type": "stream",
     "text": [
      "Dry off!\n"
     ]
    }
   ],
   "source": [
    "n = 0\n",
    "while n > 0 :\n",
    "    print('Lather')\n",
    "    print('Rinse')\n",
    "print('Dry off!')"
   ]
  },
  {
   "cell_type": "markdown",
   "metadata": {},
   "source": [
    "# 5.2 \n",
    "Write a program that repeatedly prompts a user for integer numbers until the user enters 'done'. Once 'done' is entered, print out the largest and smallest of the numbers. If the user enters anything other than a valid number catch it with a try/except and put out an appropriate message and ignore the number. Enter 7, 2, bob, 10, and 4 and match the output below. "
   ]
  },
  {
   "cell_type": "code",
   "execution_count": 84,
   "metadata": {},
   "outputs": [
    {
     "name": "stdin",
     "output_type": "stream",
     "text": [
      "Dame un número 7\n",
      "Dame un número 4\n",
      "Dame un número bobo\n"
     ]
    },
    {
     "name": "stdout",
     "output_type": "stream",
     "text": [
      "Dame sólo números, vuelve a intentarlo\n"
     ]
    },
    {
     "name": "stdin",
     "output_type": "stream",
     "text": [
      "Dame un número 10\n",
      "Dame un número 20\n",
      "Dame un número Done\n"
     ]
    },
    {
     "name": "stdout",
     "output_type": "stream",
     "text": [
      "Maximum 20\n",
      "Minimum: 4\n",
      "Done\n"
     ]
    }
   ],
   "source": [
    "largest = None \n",
    "smallest = None\n",
    "\n",
    "while True:\n",
    "    numbers = input('Dame un número')\n",
    "    if numbers == 'Done': break\n",
    "    \n",
    "    try:\n",
    "        n = int(numbers)\n",
    "    except:\n",
    "        print('Dame sólo números, vuelve a intentarlo')\n",
    "        continue\n",
    "    \n",
    "    for number in [n]:\n",
    "# Aquí hubo problema primero porque decía: \"TypeError: 'int' object is not iterable\". Se buscó y encontró\n",
    "# que debia señalarse el n como una lista con los símbolos []\n",
    "# https://stackoverflow.com/questions/19523563/python-typeerror-int-object-is-not-iterable\n",
    "\n",
    "        if largest is None:\n",
    "            largest = number\n",
    "        elif number > largest:\n",
    "            largest = number \n",
    "            \n",
    "    for number in [n]:\n",
    "        if smallest is None:\n",
    "            smallest = number\n",
    "        elif number < smallest:\n",
    "            smallest = number \n",
    "        \n",
    "print('Maximum',largest)\n",
    "print('Minimum:',smallest)\n",
    "print('Done')\n",
    "\n",
    "    \n",
    "    \n"
   ]
  },
  {
   "cell_type": "code",
   "execution_count": null,
   "metadata": {},
   "outputs": [],
   "source": []
  },
  {
   "cell_type": "code",
   "execution_count": null,
   "metadata": {},
   "outputs": [],
   "source": []
  },
  {
   "cell_type": "markdown",
   "metadata": {},
   "source": [
    "# Otro arranque mio"
   ]
  },
  {
   "cell_type": "code",
   "execution_count": null,
   "metadata": {},
   "outputs": [],
   "source": [
    "for numbers in input('Dame un número'):\n",
    "\n",
    "    try:\n",
    "        n = int(numbers)\n",
    "    except:\n",
    "        if numbers = 'Done'\n",
    "        continue\n",
    "        \n",
    "        else:\n",
    "        print('Dame sólo números, vuelve a intentarlo')\n",
    "        break\n",
    "    \n",
    "    largest = -1\n",
    "    \n",
    "    for number in numbers:\n",
    "        if number > largest\n",
    "        largest = number\n",
    "    smallest is None\n",
    "    for number in numbers:\n",
    "        if number < smallest\n",
    "        smallest = number \n",
    "\n",
    "\n"
   ]
  },
  {
   "cell_type": "code",
   "execution_count": null,
   "metadata": {},
   "outputs": [],
   "source": []
  },
  {
   "cell_type": "code",
   "execution_count": null,
   "metadata": {},
   "outputs": [],
   "source": []
  }
 ],
 "metadata": {
  "kernelspec": {
   "display_name": "Python 3",
   "language": "python",
   "name": "python3"
  },
  "language_info": {
   "codemirror_mode": {
    "name": "ipython",
    "version": 3
   },
   "file_extension": ".py",
   "mimetype": "text/x-python",
   "name": "python",
   "nbconvert_exporter": "python",
   "pygments_lexer": "ipython3",
   "version": "3.7.3"
  }
 },
 "nbformat": 4,
 "nbformat_minor": 4
}
