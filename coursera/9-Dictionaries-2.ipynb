{
 "cells": [
  {
   "cell_type": "code",
   "execution_count": null,
   "metadata": {},
   "outputs": [],
   "source": []
  },
  {
   "cell_type": "markdown",
   "metadata": {},
   "source": [
    "# Nuestro programa con Ambrosio\n",
    "Vamos a contar las palabras que usa Ambrosio en su relato de vida"
   ]
  },
  {
   "cell_type": "code",
   "execution_count": 38,
   "metadata": {},
   "outputs": [
    {
     "name": "stdout",
     "output_type": "stream",
     "text": [
      "Cuenta palabras: {'Relato': 1, 'de': 39, 'vida': 1, 'Ambrosio': 2, 'Licona:': 1, 'Bueno,': 1, 'mi': 13, 'nombre': 1, 'es': 6, 'Jesús': 1, 'Licona': 2, 'Carmona,': 1, 'soy': 2, 'nacido': 1, 'y': 29, 'criado': 1, 'en': 33, 'San': 13, 'Bernardo': 5, 'del': 7, 'viento.': 1, 'Soy': 1, 'Bernardino': 1, 'parte': 5, 'porque': 10, 'me': 11, 'crié': 1, 'yo': 18, 'naci': 1, 'la': 34, 'frontera': 1, 'lo': 9, 'que': 38, 'Antero': 2, 'Bernardo.': 2, 'Resulta': 1, 'tiene': 5, 'una': 5, 'historia': 2, 'no': 11, 'otro': 1, 'pueblo,': 2, 'colinda': 1, 'con': 16, 'deslindaba': 1, 'el': 29, 'río': 3, 'Sinú,': 1, 'por': 5, 'qué,': 1, 'Sinú': 1, 'margen': 6, 'derecha': 3, 'izquierda.': 1, 'Entonce': 1, 'antes': 2, 'desembocadura': 1, 'Cispatá': 1, 'hay': 1, 'un': 7, 'se': 13, 'llamaba': 3, 'caño': 4, 'soldado,': 2, 'a': 25, 'todo': 2, 'eso': 2, 'dominaba': 1, 'Viento,': 2, 'hasta': 1, 'llegar': 1, 'al': 1, 'Palermo.': 1, 'Y': 7, 'nazco': 1, 'pero': 4, 'Antero,': 2, 'enfrente,': 1, 'donde': 2, 'queda': 1, 'geografía': 1, 'Córdoba': 1, 'garzal,': 1, 'estaba': 3, 'ciénaga': 1, 'navío,': 1, 'bueno,': 3, 'ahí': 3, 'frente': 1, 'nací': 2, 'yo.': 1, 'Que': 1, 'pasa,': 1, 'como': 2, 'mamá': 4, 'era': 4, 'papá': 2, 'ella': 1, 'dijo': 4, 'sus': 2, 'hijos': 1, 'toditos': 1, 'tenían': 1, 'ser': 3, 'bautizados': 1, 'fui': 1, 'bautizado': 1, 'municipio': 1, 'Bernardo,': 1, 'crianza': 1, 'pasé': 1, 'Eh,': 1, 'experiencia': 1, 'tan': 2, 'grande': 1, 'vivida,': 1, 'aprendí': 1, 'algo': 2, 'lucha': 3, 'desde': 1, 'pelao,': 1, 'año': 5, '1960,': 1, '48,': 1, '60': 2, 'teniendo': 1, '12': 1, 'años,': 1, 'formó': 1, 'primer': 1, 'pleito': 3, 'agrario': 1, 'Córdoba,': 1, 'contra': 1, 'los': 15, 'tiburones': 1, 'mejor': 1, 'coleo': 1, 'fondo': 1, 'Caribe,': 1, 'don': 3, 'Jose': 3, 'Santos': 2, 'Cabrera,': 2, 'Senador': 3, 'república,': 2, 'Ignacio': 1, 'Martínez': 1, 'Lequerique.': 1, 'resulta': 2, 'esa': 4, 'lucha,': 1, 'trabajaba': 1, 'cuando': 3, 'Sahagún,': 1, 'alcantarillado': 1, 'Sahagún.': 1, 'llamó': 1, 'respecto': 1, 'pedacito': 1, 'tierra,': 2, 'parcela.': 1, 'les': 3, 'tocó': 2, 'encarcelado': 1, 'corrales': 2, 'encerraban': 1, 'esos': 1, 'blancos': 1, 'ganado.': 1, 'Una': 1, 'quedó': 1, 'Tinajones': 1, 'hacia': 1, 'abajo': 1, 'otra': 1, 'Sicará.': 1, 'A': 3, 'enerrados': 1, 'tianjones,': 1, 'gente': 5, 'he': 2, 'dicho': 1, 'hambre': 1, 'duele.': 1, 'Después': 1, 'dos': 1, 'días': 2, 'esar': 1, 'encerrado': 1, 'sol': 1, 'agua': 1, 'corrales,': 1, 'había': 1, 'quien': 1, 'le': 12, 'diera': 1, 'comida': 2, 'dejaban': 1, 'entrar': 1, 'nadie': 1, 'acá': 3, 'Sicará': 3, 'mismo,': 1, 'unió': 1, 'las': 1, 'mujeres': 1, 'Vamos': 1, 'llevarle': 1, 'maridos!': 1, 'Así': 1, 'nos': 3, 'pongan': 3, 'presas': 1, 'ellos.': 1, 'venía': 1, 'Maria': 1, 'Angulo': 2, 'ahi': 1, 'familia': 1, 'unos': 1, 'nietos,': 1, 'para': 1, 'también': 3, 'estaban': 1, 'cuñado': 1, 'hermano.': 1, 'Estaba': 1, 'tio': 3, 'Amancio': 1, 'Simon': 1, 'preso': 1, 'papa': 1, 'allá': 2, 'Juan': 1, 'asentado': 1, 'tubos': 1, 'draga': 1, 'grande.': 1, 'Entonces': 2, 'llegamos': 1, 'Sicará,': 1, 'dije': 1, 'dejo': 1, 'ir': 1, 'solo': 1, 'pa': 2, 'presa,': 1, 'voy': 4, 'usted….': 1, 'Ahí': 1, 'empecé': 1, 'luchador.': 1, 'dio': 1, 'cabo': 1, 'policía': 1, 'dijo,': 2, '“Mira': 1, 'morena,': 1, 'te': 1, 'llamas': 1, 'tu?”,': 1, '“no': 1, 'llamo': 2, 'Hilda': 1, 'Carmona”,': 1, '“y': 1, 'Usted?”,': 1, '“Yo': 2, 'Ana': 1, 'María': 1, 'vengo': 1, 'traer': 1, 'comida”,': 2, '“Y': 1, 'quién': 1, 'traen': 1, 'comida,': 1, 'perros': 2, 'estos': 1, 'están': 1, 'aquí?”,': 1, '“Si': 1, 'habla': 1, 'perros,': 1, 'todos': 2, 'son': 3, 'ellos': 1, 'carne': 1, 'hueso': 1, 'igual': 1, 'usté”': 1, 'fue': 2, 'respuesta': 1, 'dio.': 1, '“Ah': 1, '…..': 1, '“Quiere': 1, 'ponga': 1, 'presa': 1, 'ellos”,': 1, 'Dijo': 1, '“no,': 1, 'nosotras': 1, 'vinimos': 1, 'presas,': 2, 'si': 4, 'va': 1, 'poner': 1, 'quedarse': 1, 'ese': 4, 'está': 2, 'popa': 1, 'canoa,': 1, 'hijo': 1, 'mío”,': 1, '“Ah,': 1, 'no,': 1, 'niño': 1, 'meto”,': 1, '“Pero': 1, 'así,': 1, 'pues': 1, 'qué': 1, 'hacemos,': 1, 'usted': 1, 'muriendo': 1, 'hambre,': 1, 'llevamos': 1, '“Bueno,': 1, 'bueno”,': 1, 'recibieron': 1, 'comida.': 1, 'Es': 1, 'muy': 1, 'linda.': 1, 'Cuando': 1, 'da': 1, 'caso': 1, 'eso,': 1, 'comienzan': 1, 'soltar': 1, 'comienza': 1, 'medir': 1, 'padre,': 1, 'acuedo': 1, 'nombre,': 1, 'sé': 1, 'apellido': 1, 'Arroyave,': 3, 'djo': 1, 'dice': 1, 'mire,': 1, 'reunión': 1, 'masiva': 1, 'hicieron,': 1, '“Le': 1, 'proponer': 1, 'ustedes': 2, 'vana': 1, 'burlar': 1, 'han': 1, 'hecho': 1, 'campesino,': 1, 'colonos,': 1, 'entonces': 1, 'hablaba': 1, 'campesinos': 1, 'sino': 1, 'colonos.': 1, 'demostrar': 1, 'perdí': 1, 'ni': 1, 'estudiando': 1, 'abogacía,': 1, 'ahora': 1, 'menos,': 1, 'terrenos': 1, 'míos,': 1, 'Ignacio”': 1, 'padre': 2, 'Arroyave': 1, 'esto,': 1, 'tal': 1, 'vez': 1, 'Dios': 1, 'ha': 1, 'dado': 1, 'años': 1, 'tengo,': 1, 'dejá': 1, 'relato': 1, 'aprendido.': 1, 'Le': 1, '“Bueno': 1, 'dócto,': 1, 'agradezco': 1, 'palabras': 1, 'uste': 1, 'pierdo': 1, 'colonos': 1, 'ustedes,': 1, 'quito': 1, 'sotana': 1, 'mismo': 1, 'quemo,': 1, 'soy,': 1, 'Jorge': 1, 'creo': 1, 'probar': 1, 'eso”,': 1, '5': 1, 'bajó': 1, 'monseñor': 1, 'Montería,': 1, 'reunió': 1, 'entregaron': 1, 'títulos': 1, 'tierra': 2, 'campesinos,': 1, 'acabó': 1, 'pleito.': 1, 'mí': 1, 'incrustó': 1, 'mente,': 1, 'dije,': 1, 'tengo': 1, 'algún': 1, 'día,': 1, 'tener': 1, 'pedazo': 1, 'e': 1, 'casualida': 1, 'tenerlo,': 1, 'medio': 1, 'recuperación': 1, 'tierras.': 1, 'En': 1, '77,': 1, 'darse': 1, 'hora': 1, 'cero,': 1, 'metí': 1, 'Sindicalista': 1}\n"
     ]
    }
   ],
   "source": [
    "cuenta = dict()\n",
    "palabrotas = list()\n",
    "archivo = open('ambrosio-licona.txt')\n",
    "\n",
    "for linea in archivo:\n",
    "    palabras = linea.split()\n",
    "    for palabra in palabras:\n",
    "        cuenta[palabra] = cuenta.get(palabra,0) + 1\n",
    "        if palabra not in palabrotas:\n",
    "            palabrotas.append(palabra)\n",
    "        elif palabra == 'el' : continue\n",
    "        elif palabra == 'la' : continue\n",
    "        elif palabra == 'del': continue\n",
    "        elif palabra == 'de' : continue\n",
    "        elif palabra == 'y' : continue\n",
    "        elif palabra == 'lo' : continue\n",
    "        elif palabra == 'que' : continue\n",
    "        elif palabra == 'una' : continue\n",
    "        elif palabra == 'al' : continue\n",
    "        elif palabra == 'los' : continue\n",
    "        elif palabra == 'se' : continue\n",
    "        elif palabra == 'a' : continue\n",
    "        else: continue  \n",
    "print('Cuenta palabras:' , cuenta)\n"
   ]
  },
  {
   "cell_type": "markdown",
   "metadata": {},
   "source": [
    "# Definite Loops and dictionaries\n",
    "Even though dictionaries are not sotred in order, we can write a for loop that goes through all the entries in a dictionary -actually it goes through all of the keys in the dictionary and looks up the vaules"
   ]
  },
  {
   "cell_type": "code",
   "execution_count": 40,
   "metadata": {},
   "outputs": [
    {
     "name": "stdout",
     "output_type": "stream",
     "text": [
      "Ricardo 1\n",
      "Nadia 42\n",
      "Pablo 100\n"
     ]
    }
   ],
   "source": [
    "counts = {'Ricardo':1,'Nadia':42,'Pablo':100}\n",
    "for key in counts:\n",
    "    print(key, counts[key])\n",
    "    "
   ]
  },
  {
   "cell_type": "markdown",
   "metadata": {},
   "source": [
    "# Retrieving lists of Keys and Values (Method: ITEMS)\n",
    "You can get a list of keys, values, or items (both) from a dictionary"
   ]
  },
  {
   "cell_type": "code",
   "execution_count": 44,
   "metadata": {},
   "outputs": [
    {
     "name": "stdout",
     "output_type": "stream",
     "text": [
      "['Ricardo', 'Nadia', 'Pablo']\n",
      "dict_keys(['Ricardo', 'Nadia', 'Pablo'])\n",
      "dict_values([1, 42, 100])\n",
      "dict_items([('Ricardo', 1), ('Nadia', 42), ('Pablo', 100)])\n"
     ]
    }
   ],
   "source": [
    "jjj = {'Ricardo':1,'Nadia':42,'Pablo':100}\n",
    "print(list(jjj))\n",
    "print(jjj.keys())\n",
    "print(jjj.values())\n",
    "print(jjj.items())"
   ]
  },
  {
   "cell_type": "markdown",
   "metadata": {},
   "source": [
    "# Two iteration variables\n",
    "- WE loop through the key-value pairs in a dictionary using *two* iteration variables\n",
    "- Each iteration, the first variable is the key and the second variable is the corresponding value for the key"
   ]
  },
  {
   "cell_type": "code",
   "execution_count": 45,
   "metadata": {},
   "outputs": [
    {
     "name": "stdout",
     "output_type": "stream",
     "text": [
      "Ricardo 1\n",
      "Nadia 42\n",
      "Pablo 100\n"
     ]
    }
   ],
   "source": [
    "jjj = {'Ricardo':1,'Nadia':42,'Pablo':100}\n",
    "for aaa,bbb in jjj.items():\n",
    "    print(aaa, bbb)"
   ]
  },
  {
   "cell_type": "code",
   "execution_count": 46,
   "metadata": {},
   "outputs": [],
   "source": [
    "# Two nested Loops"
   ]
  },
  {
   "cell_type": "code",
   "execution_count": 47,
   "metadata": {},
   "outputs": [
    {
     "name": "stdin",
     "output_type": "stream",
     "text": [
      "Enter file: ambrosio-licona.txt\n"
     ]
    },
    {
     "name": "stdout",
     "output_type": "stream",
     "text": [
      "de 39\n"
     ]
    }
   ],
   "source": [
    "name = input('Enter file:')\n",
    "handle = open(name)\n",
    "\n",
    "counts = dict()\n",
    "for line in handle:\n",
    "    words = line.split()\n",
    "    for word in words:\n",
    "        counts[word] = counts.get(word,0) + 1\n",
    "\n",
    "bigcount = None\n",
    "bigword = None\n",
    "for word,count in counts.items():\n",
    "    if bigcount is None or count > bigcount:\n",
    "        bigword = word\n",
    "        bigcount = count\n",
    "\n",
    "print(bigword, bigcount)"
   ]
  },
  {
   "cell_type": "code",
   "execution_count": 48,
   "metadata": {},
   "outputs": [
    {
     "ename": "KeyError",
     "evalue": "'candy'",
     "output_type": "error",
     "traceback": [
      "\u001b[0;31m---------------------------------------------------------------------------\u001b[0m",
      "\u001b[0;31mKeyError\u001b[0m                                  Traceback (most recent call last)",
      "\u001b[0;32m<ipython-input-48-928189c0281a>\u001b[0m in \u001b[0;36m<module>\u001b[0;34m\u001b[0m\n\u001b[1;32m      1\u001b[0m \u001b[0mstuff\u001b[0m \u001b[0;34m=\u001b[0m \u001b[0mdict\u001b[0m\u001b[0;34m(\u001b[0m\u001b[0;34m)\u001b[0m\u001b[0;34m\u001b[0m\u001b[0;34m\u001b[0m\u001b[0m\n\u001b[0;32m----> 2\u001b[0;31m \u001b[0mprint\u001b[0m\u001b[0;34m(\u001b[0m\u001b[0mstuff\u001b[0m\u001b[0;34m[\u001b[0m\u001b[0;34m'candy'\u001b[0m\u001b[0;34m]\u001b[0m\u001b[0;34m)\u001b[0m\u001b[0;34m\u001b[0m\u001b[0;34m\u001b[0m\u001b[0m\n\u001b[0m",
      "\u001b[0;31mKeyError\u001b[0m: 'candy'"
     ]
    }
   ],
   "source": [
    "# Quiz: Qué arrojaría?:\n",
    "stuff = dict()\n",
    "print(stuff['candy'])"
   ]
  },
  {
   "cell_type": "code",
   "execution_count": 49,
   "metadata": {},
   "outputs": [
    {
     "name": "stdout",
     "output_type": "stream",
     "text": [
      "-1\n"
     ]
    }
   ],
   "source": [
    "#Quiz: Qué arrojaría?\n",
    "stuff = dict()\n",
    "print(stuff.get('candy',-1))"
   ]
  },
  {
   "cell_type": "code",
   "execution_count": 50,
   "metadata": {},
   "outputs": [],
   "source": [
    "#Quiz: Es equivalente a:\n",
    "\n",
    "if key in counts:\n",
    "    counts[key] = counts[key] + 1\n",
    "else:\n",
    "    counts[key] = 1\n",
    "\n",
    "    # Equivalente a: \n",
    "    \n",
    "    counts[key] = counts.get('candy',0) + 1"
   ]
  },
  {
   "cell_type": "markdown",
   "metadata": {},
   "source": [
    "# 9.4 Write a program to read through the mbox-short.txt and figure out who has sent the greatest number of mail messages. The program looks for 'From ' lines and takes the second word of those lines as the person who sent the mail. The program creates a Python dictionary that maps the sender's mail address to a count of the number of times they appear in the file. After the dictionary is produced, the program reads through the dictionary using a maximum loop to find the most prolific committer."
   ]
  },
  {
   "cell_type": "code",
   "execution_count": 41,
   "metadata": {},
   "outputs": [
    {
     "name": "stdout",
     "output_type": "stream",
     "text": [
      "cwen@iupui.edu 5\n"
     ]
    }
   ],
   "source": [
    "#name = 'mbox-short.txt'\n",
    "name = input(\"Enter file:\")\n",
    "if len(name) < 1 : name = \"mbox-short.txt\"\n",
    "handle = open(name)\n",
    "\n",
    "mails = dict()\n",
    "\n",
    "for line in handle:\n",
    "    #if  not line.startswith('From '): continue\n",
    "    words = line.split()\n",
    "    #print(words)\n",
    "    if len(words) < 3 or words[0] !='From':\n",
    "        continue\n",
    "    #print(words)\n",
    "    else:\n",
    "        #for word in words:\n",
    "            \n",
    "        mails[words[1]] = mails.get(words[1], 0) + 1\n",
    "\n",
    "bigcount = None\n",
    "bigword = None\n",
    "\n",
    "for key,value in mails.items():\n",
    "    if bigcount is None or value > bigcount:\n",
    "        bigword = key\n",
    "        bigcount = value\n",
    "        \n",
    "print(bigword,bigcount)\n",
    "#print(max(mails)) \n",
    "#print(mails)"
   ]
  },
  {
   "cell_type": "markdown",
   "metadata": {},
   "source": [
    "# Worked excercise: Con bono. Contar"
   ]
  },
  {
   "cell_type": "code",
   "execution_count": 1,
   "metadata": {},
   "outputs": [
    {
     "name": "stdin",
     "output_type": "stream",
     "text": [
      "Enter file:  \n"
     ]
    },
    {
     "name": "stdout",
     "output_type": "stream",
     "text": [
      "***NEW***\n",
      "But 1\n",
      "** But 1\n",
      "But old 1\n",
      "But new 2\n",
      "But new 3\n",
      "***NEW***\n",
      "soft 1\n",
      "** soft 1\n",
      "soft old 1\n",
      "soft new 2\n",
      "soft new 3\n",
      "***NEW***\n",
      "what 1\n",
      "** what 1\n",
      "what old 1\n",
      "what new 2\n",
      "what new 3\n",
      "***NEW***\n",
      "light 1\n",
      "** light 1\n",
      "light old 1\n",
      "light new 2\n",
      "light new 3\n",
      "***NEW***\n",
      "through 1\n",
      "** through 1\n",
      "through old 1\n",
      "through new 2\n",
      "through new 3\n",
      "***NEW***\n",
      "yonder 1\n",
      "** yonder 1\n",
      "yonder old 1\n",
      "yonder new 2\n",
      "yonder new 3\n",
      "***NEW***\n",
      "window 1\n",
      "** window 1\n",
      "window old 1\n",
      "window new 2\n",
      "window new 3\n",
      "***NEW***\n",
      "breaks 1\n",
      "** breaks 1\n",
      "breaks old 1\n",
      "breaks new 2\n",
      "breaks new 3\n",
      "***NEW***\n",
      "It 1\n",
      "** It 1\n",
      "It old 1\n",
      "It new 2\n",
      "It new 3\n",
      "***NEW***\n",
      "is 1\n",
      "** is 1\n",
      "is old 1\n",
      "is new 2\n",
      "is new 3\n",
      "***NEW***\n",
      "the 1\n",
      "** the 1\n",
      "the old 1\n",
      "the new 2\n",
      "the new 3\n",
      "***NEW***\n",
      "east 1\n",
      "** east 1\n",
      "east old 1\n",
      "east new 2\n",
      "east new 3\n",
      "***NEW***\n",
      "and 1\n",
      "** and 1\n",
      "and old 1\n",
      "and new 2\n",
      "and new 3\n",
      "***NEW***\n",
      "Juliet 1\n",
      "** Juliet 1\n",
      "Juliet old 1\n",
      "Juliet new 2\n",
      "Juliet new 3\n",
      "***Existing***\n",
      "is 4\n",
      "** is 4\n",
      "is old 4\n",
      "is new 5\n",
      "is new 6\n",
      "***Existing***\n",
      "the 4\n",
      "** the 4\n",
      "the old 4\n",
      "the new 5\n",
      "the new 6\n",
      "***NEW***\n",
      "sun 1\n",
      "** sun 1\n",
      "sun old 1\n",
      "sun new 2\n",
      "sun new 3\n",
      "***NEW***\n",
      "Arise 1\n",
      "** Arise 1\n",
      "Arise old 1\n",
      "Arise new 2\n",
      "Arise new 3\n",
      "***NEW***\n",
      "fair 1\n",
      "** fair 1\n",
      "fair old 1\n",
      "fair new 2\n",
      "fair new 3\n",
      "***Existing***\n",
      "sun 4\n",
      "** sun 4\n",
      "sun old 4\n",
      "sun new 5\n",
      "sun new 6\n",
      "***Existing***\n",
      "and 4\n",
      "** and 4\n",
      "and old 4\n",
      "and new 5\n",
      "and new 6\n",
      "***NEW***\n",
      "kill 1\n",
      "** kill 1\n",
      "kill old 1\n",
      "kill new 2\n",
      "kill new 3\n",
      "***Existing***\n",
      "the 7\n",
      "** the 7\n",
      "the old 7\n",
      "the new 8\n",
      "the new 9\n",
      "***NEW***\n",
      "envious 1\n",
      "** envious 1\n",
      "envious old 1\n",
      "envious new 2\n",
      "envious new 3\n",
      "***NEW***\n",
      "moon 1\n",
      "** moon 1\n",
      "moon old 1\n",
      "moon new 2\n",
      "moon new 3\n",
      "***NEW***\n",
      "Who 1\n",
      "** Who 1\n",
      "Who old 1\n",
      "Who new 2\n",
      "Who new 3\n",
      "***Existing***\n",
      "is 7\n",
      "** is 7\n",
      "is old 7\n",
      "is new 8\n",
      "is new 9\n",
      "***NEW***\n",
      "already 1\n",
      "** already 1\n",
      "already old 1\n",
      "already new 2\n",
      "already new 3\n",
      "***NEW***\n",
      "sick 1\n",
      "** sick 1\n",
      "sick old 1\n",
      "sick new 2\n",
      "sick new 3\n",
      "***Existing***\n",
      "and 7\n",
      "** and 7\n",
      "and old 7\n",
      "and new 8\n",
      "and new 9\n",
      "***NEW***\n",
      "pale 1\n",
      "** pale 1\n",
      "pale old 1\n",
      "pale new 2\n",
      "pale new 3\n",
      "***NEW***\n",
      "with 1\n",
      "** with 1\n",
      "with old 1\n",
      "with new 2\n",
      "with new 3\n",
      "***NEW***\n",
      "grief 1\n",
      "** grief 1\n",
      "grief old 1\n",
      "grief new 2\n",
      "grief new 3\n",
      "{'But': 3, 'soft': 3, 'what': 3, 'light': 3, 'through': 3, 'yonder': 3, 'window': 3, 'breaks': 3, 'It': 3, 'is': 9, 'the': 9, 'east': 3, 'and': 9, 'Juliet': 3, 'sun': 6, 'Arise': 3, 'fair': 3, 'kill': 3, 'envious': 3, 'moon': 3, 'Who': 3, 'already': 3, 'sick': 3, 'pale': 3, 'with': 3, 'grief': 3}\n",
      "But 3\n",
      "soft 3\n",
      "what 3\n",
      "light 3\n",
      "through 3\n",
      "yonder 3\n",
      "window 3\n",
      "breaks 3\n",
      "It 3\n",
      "is 9\n",
      "the 9\n",
      "east 3\n",
      "and 9\n",
      "Juliet 3\n",
      "sun 6\n",
      "Arise 3\n",
      "fair 3\n",
      "kill 3\n",
      "envious 3\n",
      "moon 3\n",
      "Who 3\n",
      "already 3\n",
      "sick 3\n",
      "pale 3\n",
      "with 3\n",
      "grief 3\n",
      "Done is 9\n"
     ]
    }
   ],
   "source": [
    "archivo = input('Enter file: ')\n",
    "if len(archivo) < 1 : archivo = 'romeo.txt'\n",
    "texto = open(archivo)\n",
    "\n",
    "di = dict()\n",
    "for linea in texto:\n",
    "    linea = linea.rstrip()\n",
    "    #print(linea)\n",
    "    palabras = linea.split()\n",
    "    #print(palabras)\n",
    "    for palabra in palabras:\n",
    "\n",
    "# Primera versión del contador:\n",
    "        \n",
    "        if palabra in di :\n",
    "            di[palabra] = di[palabra] + 1\n",
    "            print('***Existing***')\n",
    "        else:\n",
    "            di[palabra] = 1\n",
    "            print('***NEW***')\n",
    "        print(palabra,di[palabra])\n",
    "        \n",
    "        \n",
    "        # Demostrar cómo Resumir lo anterior en una sola:\n",
    "        print('**',palabra,di.get(palabra,-99))\n",
    "        # if not ther the count is zero\n",
    "        oldcount = di.get(palabra,0)\n",
    "        print(palabra, 'old', oldcount)\n",
    "        newcount = oldcount + 1\n",
    "        di[palabra] = newcount\n",
    "        print(palabra,'new',newcount)\n",
    "        \n",
    "        # Con la explicación de donde sale, ahora, todo lo anterior en una sola frase. \n",
    "        #Retrieve / create / update / counter\n",
    "        di[palabra] = di.get(palabra,0) + 1\n",
    "        print(palabra,'new',di[palabra])\n",
    "\n",
    "print(di)\n",
    "\n",
    "# Now: we want the most common words\n",
    "\n",
    "\n",
    "#Arriba lo que sigue poniendo en la explicación\n",
    "largest = -1\n",
    "theword = None\n",
    "for k,v in di.items() :\n",
    "    print(k,v)\n",
    "    if v > largest :\n",
    "        largest = v\n",
    "        theword = k #capture/remember the word that was largest\n",
    "print('Done', theword, largest)"
   ]
  },
  {
   "cell_type": "code",
   "execution_count": null,
   "metadata": {},
   "outputs": [],
   "source": []
  }
 ],
 "metadata": {
  "kernelspec": {
   "display_name": "Python 3",
   "language": "python",
   "name": "python3"
  },
  "language_info": {
   "codemirror_mode": {
    "name": "ipython",
    "version": 3
   },
   "file_extension": ".py",
   "mimetype": "text/x-python",
   "name": "python",
   "nbconvert_exporter": "python",
   "pygments_lexer": "ipython3",
   "version": "3.7.3"
  }
 },
 "nbformat": 4,
 "nbformat_minor": 4
}
