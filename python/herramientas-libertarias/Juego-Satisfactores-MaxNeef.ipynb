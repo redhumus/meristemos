{
 "cells": [
  {
   "cell_type": "markdown",
   "id": "d15fe5d2-410d-455c-b3eb-47de63b7be5c",
   "metadata": {},
   "source": [
    "# Juego de necesidades y satisfactores Max Neef \n",
    "(Con colorama y exportación a Quarto)"
   ]
  },
  {
   "cell_type": "raw",
   "id": "2a796e8e-bf82-43c0-86b2-b87f15ee00fe",
   "metadata": {},
   "source": [
    "---\n",
    "title: \"Quarto Basics\"\n",
    "format: \n",
    "  html:\n",
    "    code-fold: true\n",
    "jupyter: python3\n",
    "---"
   ]
  },
  {
   "cell_type": "code",
   "execution_count": 9,
   "id": "6b25ca4b-0f95-4302-a51d-0c7926a44b30",
   "metadata": {},
   "outputs": [
    {
     "name": "stdout",
     "output_type": "stream",
     "text": [
      "Collecting jupyterlab-quarto\n",
      "  Downloading jupyterlab_quarto-0.3.3-py3-none-any.whl.metadata (6.8 kB)\n",
      "Downloading jupyterlab_quarto-0.3.3-py3-none-any.whl (909 kB)\n",
      "\u001b[2K   \u001b[90m━━━━━━━━━━━━━━━━━━━━━━━━━━━━━━━━━━━━━━━━\u001b[0m \u001b[32m909.2/909.2 kB\u001b[0m \u001b[31m20.6 MB/s\u001b[0m eta \u001b[36m0:00:00\u001b[0m00:01\u001b[0m\n",
      "\u001b[?25hInstalling collected packages: jupyterlab-quarto\n",
      "Successfully installed jupyterlab-quarto-0.3.3\n"
     ]
    }
   ],
   "source": [
    "!pip install jupyterlab-quarto"
   ]
  },
  {
   "cell_type": "code",
   "execution_count": null,
   "id": "bb1a3cbf-7ff2-4b7f-80be-cd8828478ab1",
   "metadata": {},
   "outputs": [
    {
     "name": "stdout",
     "output_type": "stream",
     "text": [
      "Autocalificación (en una escala del 1 al 10):\n",
      "\n",
      "\u001b[34mPara las necesidades relacionadas con subsistencia:\u001b[0m\n"
     ]
    }
   ],
   "source": [
    "from colorama import Fore, Style\n",
    "\n",
    "class MaxNeefJuego:\n",
    "    def __init__(self):\n",
    "        self.necesidades = {\n",
    "            \"subsistencia\": [\"comida\", \"agua\", \"refugio\", \"trabajo\", \"salud física\", \"salud mental\"],\n",
    "            \"protección\": [\"seguridad social\", \"sistema de salud\", \"ahorros\", \"familia\"],\n",
    "            \"afecto\": [\"amistad\",\"pareja\", \"familia\", \"cuidar\", \"expresar emociones\", \"compartir\"],\n",
    "            \"comprensión\": [\"formación\",\"comunidades de aprendizaje\",\"lectura\", \"espiritualidad\"],\n",
    "            \"participación\": [\"comunidad\", \"involucramiento\"],\n",
    "            \"ocio\": [\"entretenimiento\", \"relajación\"],\n",
    "            \"creación\": [\"expresión\", \"creatividad\"],\n",
    "            \"identidad\": [\"pertenencia\", \"autoestima\"],\n",
    "            \"libertad\": [\"autonomía\", \"elección\"]\n",
    "        }\n",
    "\n",
    "        self.calificaciones = {}\n",
    "\n",
    "    def autoevaluacion(self):\n",
    "        print(\"Autocalificación (en una escala del 1 al 10):\")\n",
    "        for necesidad, items in self.necesidades.items():\n",
    "            print(f\"\\n{Fore.BLUE}Para las necesidades relacionadas con {necesidad}:{Style.RESET_ALL}\")\n",
    "            for item in items:\n",
    "                calificacion = int(input(f\"\\t{item}: \"))\n",
    "                self.calificaciones[item] = calificacion\n",
    "\n",
    "    def calcular_puntaje(self):\n",
    "        puntaje_total = sum(self.calificaciones.values())\n",
    "        puntaje_promedio = puntaje_total / len(self.calificaciones)\n",
    "\n",
    "        print(\"\\n\" + Fore.CYAN + \"Tabla de resultados:\" + Style.RESET_ALL)\n",
    "        print(f\"{Fore.YELLOW}{'Componente':}{Style.RESET_ALL}\")\n",
    "\n",
    "\n",
    "        print(f\"{'Puntaje':}\")\n",
    "        print(f\"{Fore.YELLOW}{'-' * 35}{Style.RESET_ALL}\")\n",
    "\n",
    "        for componente, puntaje in self.calificaciones.items():\n",
    "            color = Fore.GREEN if puntaje >= 7 else (Fore.YELLOW if puntaje >= 4 else Fore.RED)\n",
    "            print(f\"{color}{componente.ljust(20, ' ')}{str(puntaje).ljust(15, ' ')}{Style.RESET_ALL}\")\n",
    "\n",
    "        print(f\"\\nPuntaje total: {puntaje_total}\")\n",
    "        print(f\"Puntaje promedio: {puntaje_promedio:.2f}\")\n",
    "\n",
    "        if puntaje_promedio < 4:\n",
    "            print(\"Puntaje semaforizado: \" + Fore.RED + \"ROJO\" + Style.RESET_ALL)\n",
    "        elif puntaje_promedio < 7:\n",
    "            print(\"Puntaje semaforizado: \" + Fore.YELLOW + \"AMARILLO\" + Style.RESET_ALL)\n",
    "        else:\n",
    "            print(\"Puntaje semaforizado: \" + Fore.GREEN + \"VERDE\" + Style.RESET_ALL)\n",
    "\n",
    "if __name__ == \"__main__\":\n",
    "    juego = MaxNeefJuego()\n",
    "    juego.autoevaluacion()\n",
    "    juego.calcular_puntaje()\n"
   ]
  },
  {
   "cell_type": "code",
   "execution_count": null,
   "id": "f766bde8-d46c-4a71-9ec5-6dc44cec9b1f",
   "metadata": {},
   "outputs": [],
   "source": []
  }
 ],
 "metadata": {
  "kernelspec": {
   "display_name": "Python 3 (ipykernel)",
   "language": "python",
   "name": "python3"
  },
  "language_info": {
   "codemirror_mode": {
    "name": "ipython",
    "version": 3
   },
   "file_extension": ".py",
   "mimetype": "text/x-python",
   "name": "python",
   "nbconvert_exporter": "python",
   "pygments_lexer": "ipython3",
   "version": "3.11.7"
  }
 },
 "nbformat": 4,
 "nbformat_minor": 5
}
