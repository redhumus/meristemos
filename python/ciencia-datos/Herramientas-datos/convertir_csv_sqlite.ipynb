{
 "cells": [
  {
   "cell_type": "markdown",
   "id": "14af26e2-86f5-4396-a4c6-07168a2d42f8",
   "metadata": {},
   "source": [
    "# Convertir un archivo .csv a una bd SQLite"
   ]
  },
  {
   "cell_type": "code",
   "execution_count": 2,
   "id": "d6bc913c-0991-4866-a17e-db5fc06f9d80",
   "metadata": {},
   "outputs": [
    {
     "name": "stdout",
     "output_type": "stream",
     "text": [
      "Carga completada.\n"
     ]
    }
   ],
   "source": [
    "#Importa\n",
    "\n",
    "import pandas as pd\n",
    "from sqlalchemy import create_engine\n",
    "\n",
    "# Ruta al archivo .csv grande\n",
    "csv_file_path = '/home/omnibus/Documents/QGISS_Cartografia/Fuentes/MX/Municipios/tabla_municipios.csv'\n",
    "\n",
    "# Ruta a la base de datos SQLite (se creará si no existe)\n",
    "database_path = '/home/omnibus/Documents/QGISS_Cartografia/Fuentes/MX/Municipios/tabla_municipios.db'\n",
    "\n",
    "# Conexión a la base de datos SQLite\n",
    "engine = create_engine(f'sqlite:///{database_path}')\n",
    "\n",
    "# Nombre de la tabla en la base de datos\n",
    "table_name = 'municipios'\n",
    "\n",
    "# Tamaño del bloque (número de filas) para cargar por iteración\n",
    "chunksize = 10000\n",
    "\n",
    "# Iterar sobre el archivo .csv y cargarlo en la base de datos por bloques\n",
    "for chunk in pd.read_csv(csv_file_path, chunksize=chunksize):\n",
    "    chunk.to_sql(table_name, engine, if_exists='append', index=False)\n",
    "\n",
    "print(\"Carga completada.\")\n"
   ]
  },
  {
   "cell_type": "code",
   "execution_count": null,
   "id": "13a273e4-1af3-40dd-8820-5169ee2c8921",
   "metadata": {},
   "outputs": [],
   "source": []
  }
 ],
 "metadata": {
  "kernelspec": {
   "display_name": "Python 3 (ipykernel)",
   "language": "python",
   "name": "python3"
  },
  "language_info": {
   "codemirror_mode": {
    "name": "ipython",
    "version": 3
   },
   "file_extension": ".py",
   "mimetype": "text/x-python",
   "name": "python",
   "nbconvert_exporter": "python",
   "pygments_lexer": "ipython3",
   "version": "3.11.3"
  }
 },
 "nbformat": 4,
 "nbformat_minor": 5
}
