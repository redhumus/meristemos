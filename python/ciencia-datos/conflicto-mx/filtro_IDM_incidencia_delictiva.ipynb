{
 "cells": [
  {
   "cell_type": "markdown",
   "id": "61b0a6fc-8221-4234-bc81-a70caddf0404",
   "metadata": {},
   "source": [
    "# Tablero de control Fitro incidencia delictiva\n",
    "\n",
    "Basado en Agrícola Sinú 2023"
   ]
  },
  {
   "cell_type": "code",
   "execution_count": 1,
   "id": "85059a46-2591-4394-afe6-e1c1bd2a9522",
   "metadata": {},
   "outputs": [
    {
     "name": "stdout",
     "output_type": "stream",
     "text": [
      "Campos disponibles:\n",
      "Index(['Año', 'CVEGEO', 'TotalDelitos', 'TotalHomicidios', 'NOM_ENT', 'MUN',\n",
      "       't_del10mil', 't_del100mil', 't_homicidios100'],\n",
      "      dtype='object')\n"
     ]
    },
    {
     "data": {
      "application/vnd.jupyter.widget-view+json": {
       "model_id": "ddb2b782152845f1ac886e8a3a37e807",
       "version_major": 2,
       "version_minor": 0
      },
      "text/plain": [
       "Dropdown(description='Variable:', options=('Año', 'CVEGEO', 'TotalDelitos', 'TotalHomicidios', 'NOM_ENT', 'MUN…"
      ]
     },
     "metadata": {},
     "output_type": "display_data"
    },
    {
     "data": {
      "application/vnd.jupyter.widget-view+json": {
       "model_id": "b8c2c12603d74e38b51ec6ece7d064a9",
       "version_major": 2,
       "version_minor": 0
      },
      "text/plain": [
       "SelectMultiple(description='Estados:', options=('Aguascalientes', 'Baja California', 'Baja California Sur', 'C…"
      ]
     },
     "metadata": {},
     "output_type": "display_data"
    },
    {
     "data": {
      "application/vnd.jupyter.widget-view+json": {
       "model_id": "c61237d85aa54cb78fb4e7f4d6e4fafb",
       "version_major": 2,
       "version_minor": 0
      },
      "text/plain": [
       "Dropdown(description='Index:', options=('Año', 'CVEGEO', 'TotalDelitos', 'TotalHomicidios', 'NOM_ENT', 'MUN', …"
      ]
     },
     "metadata": {},
     "output_type": "display_data"
    },
    {
     "data": {
      "application/vnd.jupyter.widget-view+json": {
       "model_id": "333c915cc9164bd097a469788ca0433d",
       "version_major": 2,
       "version_minor": 0
      },
      "text/plain": [
       "Dropdown(description='Eje X:', options=('Año', 'CVEGEO', 'TotalDelitos', 'TotalHomicidios', 'NOM_ENT', 'MUN', …"
      ]
     },
     "metadata": {},
     "output_type": "display_data"
    },
    {
     "data": {
      "application/vnd.jupyter.widget-view+json": {
       "model_id": "d084a5b5662e48bd96d68d8d294e6b2e",
       "version_major": 2,
       "version_minor": 0
      },
      "text/plain": [
       "Dropdown(description='Eje Y:', options=('Año', 'CVEGEO', 'TotalDelitos', 'TotalHomicidios', 'NOM_ENT', 'MUN', …"
      ]
     },
     "metadata": {},
     "output_type": "display_data"
    },
    {
     "data": {
      "application/vnd.jupyter.widget-view+json": {
       "model_id": "cff98959f39b4d29bb227ebf47352940",
       "version_major": 2,
       "version_minor": 0
      },
      "text/plain": [
       "Dropdown(description='Tipo de gráfico:', options=('bar', 'line', 'scatter'), value='bar')"
      ]
     },
     "metadata": {},
     "output_type": "display_data"
    },
    {
     "data": {
      "application/vnd.jupyter.widget-view+json": {
       "model_id": "ebaba345269e4c05ba1ad2ff954f3349",
       "version_major": 2,
       "version_minor": 0
      },
      "text/plain": [
       "Button(description='Exportar tabla', style=ButtonStyle())"
      ]
     },
     "metadata": {},
     "output_type": "display_data"
    },
    {
     "data": {
      "application/vnd.jupyter.widget-view+json": {
       "model_id": "bfd269bbaa444b20957eca6ef775084f",
       "version_major": 2,
       "version_minor": 0
      },
      "text/plain": [
       "Output()"
      ]
     },
     "metadata": {},
     "output_type": "display_data"
    },
    {
     "data": {
      "application/vnd.jupyter.widget-view+json": {
       "model_id": "c531b049716147658e74251c9829a317",
       "version_major": 2,
       "version_minor": 0
      },
      "text/plain": [
       "Output()"
      ]
     },
     "metadata": {},
     "output_type": "display_data"
    }
   ],
   "source": [
    "import os\n",
    "import pandas as pd\n",
    "import plotly.graph_objects as go\n",
    "import ipywidgets as widgets\n",
    "from IPython.display import display, HTML\n",
    "import markdown\n",
    "\n",
    "# Directorio que contiene el archivo CSV\n",
    "directory = \"/home/omnibus/Documents/QGISS_Cartografia/Proyectos/criminal_mx/incidencia_delictiva/tasa_delictiva\"\n",
    "\n",
    "# Obtener la lista de archivos CSV en el directorio\n",
    "csv_files = [file for file in os.listdir(directory) if file.endswith(\".csv\")]\n",
    "\n",
    "# Verificar si hay archivos CSV en el directorio\n",
    "if len(csv_files) == 0:\n",
    "    print(\"No se encontraron archivos CSV en el directorio especificado.\")\n",
    "    exit()\n",
    "\n",
    "# Cargar los datos de los archivos CSV en un DataFrame\n",
    "dfs = []\n",
    "\n",
    "for file in csv_files:\n",
    "    file_path = os.path.join(directory, file)\n",
    "    try:\n",
    "        df = pd.read_csv(file_path)\n",
    "        dfs.append(df)\n",
    "    except pd.errors.EmptyDataError:\n",
    "        print(f\"El archivo {file} está vacío y no se puede cargar.\")\n",
    "\n",
    "# Verificar si se cargaron datos en el DataFrame\n",
    "if len(dfs) == 0:\n",
    "    print(\"No se pudo cargar ningún archivo CSV con datos.\")\n",
    "    exit()\n",
    "\n",
    "# Concatenar los DataFrames en uno solo\n",
    "data = pd.concat(dfs)\n",
    "\n",
    "# Mostrar los campos disponibles\n",
    "fields = data.columns\n",
    "print(\"Campos disponibles:\")\n",
    "print(fields)\n",
    "\n",
    "# Obtener la lista de años\n",
    "year_list = data[\"Año\"].unique()\n",
    "\n",
    "# Obtener la lista de municipios\n",
    "municipio_list = data[\"NOM_ENT\"].unique()\n",
    "\n",
    "# Crear las listas desplegables para seleccionar las variables y el tipo de gráfico\n",
    "variable_dropdown = widgets.Dropdown(options=fields, description=\"Variable:\")\n",
    "year_dropdown = widgets.SelectMultiple(options=year_list, description=\"Años:\")\n",
    "municipio_dropdown = widgets.SelectMultiple(options=municipio_list, description=\"Estados:\")\n",
    "index_dropdown = widgets.Dropdown(options=fields, description=\"Index:\")\n",
    "x_axis_dropdown = widgets.Dropdown(options=fields, description=\"Eje X:\")\n",
    "y_axis_dropdown = widgets.Dropdown(options=fields, description=\"Eje Y:\")\n",
    "chart_type_dropdown = widgets.Dropdown(options=[\"bar\", \"line\", \"scatter\"], description=\"Tipo de gráfico:\")\n",
    "\n",
    "# Crear las salidas HTML para la tabla y el gráfico\n",
    "table_output = widgets.Output()\n",
    "chart_output = widgets.Output()\n",
    "\n",
    "# Función para generar y mostrar la tabla y el gráfico seleccionados\n",
    "def generate_output(change):\n",
    "    global pivot_table\n",
    "    variable = variable_dropdown.value\n",
    "    chart_type = chart_type_dropdown.value\n",
    "    years_selected = year_dropdown.value\n",
    "    municipios_selected = municipio_dropdown.value\n",
    "    index_field = index_dropdown.value\n",
    "    x_field = x_axis_dropdown.value\n",
    "    y_field = y_axis_dropdown.value\n",
    "    \n",
    "    # Filtrar el DataFrame por los años y municipios seleccionados\n",
    "    filtered_data = data[data[\"Año\"].isin(years_selected) & data[\"NOM_ENT\"].isin(municipios_selected)]\n",
    "    \n",
    "    # Crear la tabla de pivote\n",
    "    pivot_table = pd.pivot_table(filtered_data, values=variable, index=index_field, columns=[\"Año\", \"NOM_ENT\"])\n",
    "    \n",
    "    # Limpiar las salidas HTML\n",
    "    table_output.clear_output()\n",
    "    chart_output.clear_output()\n",
    "    \n",
    "    # Generar y mostrar la tabla\n",
    "    with table_output:\n",
    "        display(HTML(\"<h2>Tabla</h2>\"))\n",
    "        display(pivot_table)\n",
    "\n",
    "    # Generar y mostrar el gráfico\n",
    "    with chart_output:\n",
    "        try:\n",
    "            fig = go.Figure()\n",
    "            \n",
    "            if chart_type == \"bar\":\n",
    "                for year in years_selected:\n",
    "                    for municipio in municipios_selected:\n",
    "                        if year in pivot_table.columns.get_level_values(\"Año\") and municipio in pivot_table.columns.get_level_values(\"NOM_ENT\"):\n",
    "                            fig.add_trace(go.Bar(\n",
    "                                x=pivot_table.index,\n",
    "                                y=pivot_table[(year, municipio)],\n",
    "                                name=f\"{year} ({municipio})\"\n",
    "                            ))\n",
    "            else:\n",
    "                for year in years_selected:\n",
    "                    for municipio in municipios_selected:\n",
    "                        if year in pivot_table.columns.get_level_values(\"Año\") and municipio in pivot_table.columns.get_level_values(\"NOM_ENT\"):\n",
    "                            fig.add_trace(go.Scatter(\n",
    "                                x=pivot_table[x_field][(year, municipio)],\n",
    "                                y=pivot_table[y_field][(year, municipio)],\n",
    "                                mode=\"lines+markers\",\n",
    "                                name=f\"{year} ({municipio})\"\n",
    "                            ))\n",
    "\n",
    "            fig.update_layout(\n",
    "                title=f\"Gráfico de {chart_type} de {variable} por {x_field} y {y_field}\",\n",
    "                xaxis=dict(title=x_field),\n",
    "                yaxis=dict(title=y_field)\n",
    "            )\n",
    "\n",
    "            fig.show()\n",
    "        except ValueError as e:\n",
    "            print(f\"No se pudo generar la gráfica. Error: {str(e)}\")\n",
    "\n",
    "# Asignar la función de generación de tabla y gráfico al evento \"change\" de los dropdown menús\n",
    "variable_dropdown.observe(generate_output, 'value')\n",
    "#product_dropdown.observe(generate_output, 'value')\n",
    "municipio_dropdown.observe(generate_output, 'value')\n",
    "index_dropdown.observe(generate_output, 'value')\n",
    "x_axis_dropdown.observe(generate_output, 'value')\n",
    "y_axis_dropdown.observe(generate_output, 'value')\n",
    "chart_type_dropdown.observe(generate_output, 'value')\n",
    "\n",
    "\n",
    "# Función para exportar la tabla como archivo Markdown\n",
    "def export_table_to_markdown(button):\n",
    "    if pivot_table is None:\n",
    "        print(\"No se ha generado ninguna tabla todavía.\")\n",
    "        return\n",
    "\n",
    "    # Convertir la tabla a Markdown y guardarla en un archivo\n",
    "    table = pivot_table.to_markdown()\n",
    "    with open(\"tabla.md\", \"w\") as f:\n",
    "        f.write(table)\n",
    "    \n",
    "    print(\"La tabla se ha exportado exitosamente como archivo Markdown.\")\n",
    "\n",
    "\n",
    "\n",
    "# Botón para exportar la tabla\n",
    "export_button = widgets.Button(description=\"Exportar tabla\")\n",
    "export_button.on_click(export_table_to_markdown)    \n",
    "\n",
    "\n",
    "# Mostrar los dropdown menús, el botón y la salida de la tabla\n",
    "display(variable_dropdown, municipio_dropdown, index_dropdown, x_axis_dropdown, y_axis_dropdown, chart_type_dropdown)\n",
    "display(export_button)\n",
    "display(table_output)\n",
    "display(chart_output)\n",
    "\n"
   ]
  },
  {
   "cell_type": "markdown",
   "id": "b0c1351f-f460-4304-8afe-e7bab08f970a",
   "metadata": {},
   "source": [
    "# Usando otro motor para tableros de control"
   ]
  },
  {
   "cell_type": "code",
   "execution_count": null,
   "id": "a23e3c1e-e74d-4feb-b884-72f1f041a12b",
   "metadata": {},
   "outputs": [],
   "source": [
    "import pandas  as pd\n",
    "!import pygwalker as pyg\n",
    "\n"
   ]
  },
  {
   "cell_type": "code",
   "execution_count": 3,
   "id": "e3266054-4aa7-4343-a9c5-ec24e3150594",
   "metadata": {},
   "outputs": [
    {
     "ename": "NameError",
     "evalue": "name 'pyg' is not defined",
     "output_type": "error",
     "traceback": [
      "\u001b[0;31m---------------------------------------------------------------------------\u001b[0m",
      "\u001b[0;31mNameError\u001b[0m                                 Traceback (most recent call last)",
      "Cell \u001b[0;32mIn[3], line 2\u001b[0m\n\u001b[1;32m      1\u001b[0m df \u001b[38;5;241m=\u001b[39m  pd\u001b[38;5;241m.\u001b[39mread_csv(\u001b[38;5;124m'\u001b[39m\u001b[38;5;124m/home/omnibus/Documents/QGISS_Cartografia/Proyectos/criminal_mx/incidencia_delictiva/tasa_delictiva/tasas_delitos_anio.csv\u001b[39m\u001b[38;5;124m'\u001b[39m)\n\u001b[0;32m----> 2\u001b[0m gwalker \u001b[38;5;241m=\u001b[39m \u001b[43mpyg\u001b[49m\u001b[38;5;241m.\u001b[39mwalk(df)\n",
      "\u001b[0;31mNameError\u001b[0m: name 'pyg' is not defined"
     ]
    }
   ],
   "source": [
    "df =  pd.read_csv('/home/omnibus/Documents/QGISS_Cartografia/Proyectos/criminal_mx/incidencia_delictiva/tasa_delictiva/tasas_delitos_anio.csv')\n",
    "gwalker = pyg.walk(df)"
   ]
  },
  {
   "cell_type": "code",
   "execution_count": null,
   "id": "46bd7cdc-4791-4b5f-9882-7b9e3f879520",
   "metadata": {},
   "outputs": [],
   "source": []
  }
 ],
 "metadata": {
  "kernelspec": {
   "display_name": "Python 3 (ipykernel)",
   "language": "python",
   "name": "python3"
  },
  "language_info": {
   "codemirror_mode": {
    "name": "ipython",
    "version": 3
   },
   "file_extension": ".py",
   "mimetype": "text/x-python",
   "name": "python",
   "nbconvert_exporter": "python",
   "pygments_lexer": "ipython3",
   "version": "3.11.3"
  }
 },
 "nbformat": 4,
 "nbformat_minor": 5
}
