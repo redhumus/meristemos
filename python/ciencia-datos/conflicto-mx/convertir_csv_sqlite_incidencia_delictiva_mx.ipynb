{
 "cells": [
  {
   "cell_type": "markdown",
   "id": "557e030e-456d-426f-8627-ca984075cb60",
   "metadata": {},
   "source": [
    "# Trabajar con los datos de: \n",
    "\n",
    "1. Incidencia delictiva\n",
    "\n",
    "Fuente: https://www.gob.mx/sesnsp/acciones-y-programas/datos-abiertos-de-incidencia-delictiva?state=published\n",
    "\n",
    "2. Registro Nacional de Víctimas\n",
    "\n",
    "Aún no disponible. Se solicitó arreglar el enlace roto\n",
    "Fuente: https://datos.gob.mx/busca/dataset/dgrnvi-base-de-datos-del-registro-nacional-de-victimas-renavi-o-solicitudes-recibidas-en-el-reg"
   ]
  },
  {
   "cell_type": "code",
   "execution_count": 3,
   "id": "274ec4e5-637e-4c39-b854-5658d8722d3a",
   "metadata": {},
   "outputs": [],
   "source": [
    "import pandas as pd\n",
    "from sqlalchemy import create_engine\n"
   ]
  },
  {
   "cell_type": "code",
   "execution_count": 5,
   "id": "6ece780e-a08e-4813-8df7-6cfaddc12536",
   "metadata": {},
   "outputs": [
    {
     "name": "stdout",
     "output_type": "stream",
     "text": [
      "Carga completada.\n"
     ]
    }
   ],
   "source": [
    "# Ruta al archivo .csv grande\n",
    "csv_file_path = '/home/omnibus/Documents/QGISS_Cartografia/Fuentes/MX/IDM_NM_jun23.csv'\n",
    "\n",
    "# Ruta a la base de datos SQLite (se creará si no existe)\n",
    "database_path = '/home/omnibus/Documents/QGISS_Cartografia/Fuentes/MX/IDM_NM_jun23.db'\n",
    "\n",
    "# Conexión a la base de datos SQLite\n",
    "engine = create_engine(f'sqlite:///{database_path}')\n",
    "\n",
    "# Nombre de la tabla en la base de datos\n",
    "table_name = 'indidencia_delictiva'\n",
    "\n",
    "# Tamaño del bloque (número de filas) para cargar por iteración\n",
    "chunksize = 10000\n",
    "\n",
    "# Iterar sobre el archivo .csv y cargarlo en la base de datos por bloques\n",
    "for chunk in pd.read_csv(csv_file_path, chunksize=chunksize, encoding='iso-8859-1'):\n",
    "    chunk.to_sql(table_name, engine, if_exists='append', index=False)\n",
    "\n",
    "print(\"Carga completada.\")\n"
   ]
  },
  {
   "cell_type": "code",
   "execution_count": null,
   "id": "5edff349-f467-4c5b-89d1-0ace092e0faf",
   "metadata": {},
   "outputs": [],
   "source": []
  }
 ],
 "metadata": {
  "kernelspec": {
   "display_name": "Python 3 (ipykernel)",
   "language": "python",
   "name": "python3"
  },
  "language_info": {
   "codemirror_mode": {
    "name": "ipython",
    "version": 3
   },
   "file_extension": ".py",
   "mimetype": "text/x-python",
   "name": "python",
   "nbconvert_exporter": "python",
   "pygments_lexer": "ipython3",
   "version": "3.11.3"
  }
 },
 "nbformat": 4,
 "nbformat_minor": 5
}
