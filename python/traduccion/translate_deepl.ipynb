{
 "cells": [
  {
   "cell_type": "markdown",
   "id": "261b6efa-e4cf-466f-b0b9-e672974a362e",
   "metadata": {},
   "source": [
    "# Traducción usando Deepl.com"
   ]
  },
  {
   "cell_type": "code",
   "execution_count": null,
   "id": "5372e001-837d-4ceb-96b3-da60980c51a0",
   "metadata": {},
   "outputs": [],
   "source": [
    "import deepl\n",
    "\n",
    "auth_key = \"f63c02c5-f056-...\"  # Replace with your key\n",
    "translator = deepl.Translator(auth_key)\n",
    "\n",
    "result = translator.translate_text(\"Hello, world!\", target_lang=\"FR\")\n",
    "print(result.text)  # \"Bonjour, le monde !\""
   ]
  }
 ],
 "metadata": {
  "kernelspec": {
   "display_name": "Python 3 (ipykernel)",
   "language": "python",
   "name": "python3"
  },
  "language_info": {
   "codemirror_mode": {
    "name": "ipython",
    "version": 3
   },
   "file_extension": ".py",
   "mimetype": "text/x-python",
   "name": "python",
   "nbconvert_exporter": "python",
   "pygments_lexer": "ipython3",
   "version": "3.11.7"
  }
 },
 "nbformat": 4,
 "nbformat_minor": 5
}
