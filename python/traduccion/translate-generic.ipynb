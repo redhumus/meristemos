{
 "cells": [
  {
   "cell_type": "markdown",
   "id": "3df965ab",
   "metadata": {
    "jupyter": {
     "source_hidden": true
    }
   },
   "source": [
    "# Usando la biblioteca genérica translator de Python"
   ]
  },
  {
   "cell_type": "code",
   "execution_count": 3,
   "id": "d681db8d",
   "metadata": {},
   "outputs": [
    {
     "name": "stdout",
     "output_type": "stream",
     "text": [
      "Traducción completada. El resultado se ha guardado en texto-ingles.txt\n"
     ]
    }
   ],
   "source": [
    "from translate import Translator\n",
    "\n",
    "def translate_spanish_to_english(text):\n",
    "    translator = Translator(to_lang=\"en\", from_lang=\"es\")\n",
    "    translation = translator.translate(text)\n",
    "    return translation\n",
    "\n",
    "# Archivo de entrada en español\n",
    "archivo_entrada = 'texto-español.txt'\n",
    "\n",
    "# Archivo de salida en inglés\n",
    "archivo_salida = 'texto-ingles.txt'\n",
    "\n",
    "# Leer el texto en español del archivo de entrada\n",
    "with open(archivo_entrada, 'r') as file:\n",
    "    texto_espanol = file.read()\n",
    "\n",
    "# Traducción de español a inglés\n",
    "texto_ingles = translate_spanish_to_english(texto_espanol)\n",
    "\n",
    "# Escribir el texto traducido en inglés en el archivo de salida\n",
    "with open(archivo_salida, 'w') as file:\n",
    "    file.write(texto_ingles)\n",
    "\n",
    "print(\"Traducción completada. El resultado se ha guardado en\", archivo_salida)\n"
   ]
  },
  {
   "cell_type": "code",
   "execution_count": null,
   "id": "fd55d665",
   "metadata": {},
   "outputs": [],
   "source": []
  },
  {
   "cell_type": "code",
   "execution_count": null,
   "id": "ed2483c5",
   "metadata": {},
   "outputs": [],
   "source": []
  },
  {
   "cell_type": "code",
   "execution_count": null,
   "id": "4d371636",
   "metadata": {},
   "outputs": [],
   "source": []
  }
 ],
 "metadata": {
  "kernelspec": {
   "display_name": "Python 3 (ipykernel)",
   "language": "python",
   "name": "python3"
  },
  "language_info": {
   "codemirror_mode": {
    "name": "ipython",
    "version": 3
   },
   "file_extension": ".py",
   "mimetype": "text/x-python",
   "name": "python",
   "nbconvert_exporter": "python",
   "pygments_lexer": "ipython3",
   "version": "3.11.7"
  }
 },
 "nbformat": 4,
 "nbformat_minor": 5
}
