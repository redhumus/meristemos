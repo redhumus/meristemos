{
 "cells": [
  {
   "cell_type": "markdown",
   "id": "a3f66117",
   "metadata": {},
   "source": [
    "# Traductor "
   ]
  },
  {
   "cell_type": "markdown",
   "id": "2022a36f",
   "metadata": {},
   "source": [
    "## importa NLTK\n",
    "\n",
    "la biblioteca nltk (Natural Language Toolkit) es una opción que se acerca más a ser software libre. NLTK es una biblioteca de procesamiento de lenguaje natural ampliamente utilizada y de código abierto que ofrece una amplia gama de funcionalidades para tareas de procesamiento de texto, incluida la traducción.\n",
    "\n",
    "NLTK es una biblioteca gratuita y de código abierto distribuida bajo la licencia Apache 2.0. \n",
    "\n",
    "Importa Google Translate"
   ]
  },
  {
   "cell_type": "code",
   "execution_count": 14,
   "id": "423155d0",
   "metadata": {},
   "outputs": [
    {
     "name": "stderr",
     "output_type": "stream",
     "text": [
      "[nltk_data] Downloading package punkt to /home/omnibus/nltk_data...\n",
      "[nltk_data]   Unzipping tokenizers/punkt.zip.\n"
     ]
    },
    {
     "data": {
      "text/plain": [
       "True"
      ]
     },
     "execution_count": 14,
     "metadata": {},
     "output_type": "execute_result"
    }
   ],
   "source": [
    "from nltk.tokenize import word_tokenize\n",
    "from googletrans import Translator\n",
    "import nltk\n",
    "nltk.download('punkt')"
   ]
  },
  {
   "cell_type": "markdown",
   "id": "f9b4d59e",
   "metadata": {},
   "source": [
    "Función: Tarea de traducción"
   ]
  },
  {
   "cell_type": "code",
   "execution_count": 15,
   "id": "01bbdce2",
   "metadata": {},
   "outputs": [],
   "source": [
    "def translate_spanish_to_english(text):\n",
    "    translator = Translator(service_urls=['translate.google.com'])\n",
    "    translation = translator.translate(text, src='es', dest='en')\n",
    "    return translation.text"
   ]
  },
  {
   "cell_type": "markdown",
   "id": "f5379afb",
   "metadata": {},
   "source": [
    "Añade rutas de archivo de entrada y salida y lee entrada"
   ]
  },
  {
   "cell_type": "code",
   "execution_count": 16,
   "id": "e2050df3",
   "metadata": {},
   "outputs": [],
   "source": [
    "\n",
    "# Ruta del archivo de texto de entrada (español)\n",
    "ruta_archivo_entrada = 'texto-español.txt'\n",
    "\n",
    "# Ruta del archivo de texto de salida (inglés)\n",
    "ruta_archivo_salida = 'texto-ingles.txt'\n",
    "\n",
    "# Leer el texto de entrada desde el archivo\n",
    "with open(ruta_archivo_entrada, 'r', encoding='utf-8') as archivo_entrada:\n",
    "    texto_espanol = archivo_entrada.read()"
   ]
  },
  {
   "cell_type": "markdown",
   "id": "a09125fa",
   "metadata": {},
   "source": [
    "Tokenización"
   ]
  },
  {
   "cell_type": "code",
   "execution_count": 17,
   "id": "7e6717b0",
   "metadata": {},
   "outputs": [
    {
     "ename": "IndexError",
     "evalue": "list index out of range",
     "output_type": "error",
     "traceback": [
      "\u001b[0;31m---------------------------------------------------------------------------\u001b[0m",
      "\u001b[0;31mIndexError\u001b[0m                                Traceback (most recent call last)",
      "Cell \u001b[0;32mIn[17], line 10\u001b[0m\n\u001b[1;32m      8\u001b[0m translated_tokens \u001b[38;5;241m=\u001b[39m []\n\u001b[1;32m      9\u001b[0m \u001b[38;5;28;01mfor\u001b[39;00m token \u001b[38;5;129;01min\u001b[39;00m tokens:\n\u001b[0;32m---> 10\u001b[0m     translated_token \u001b[38;5;241m=\u001b[39m \u001b[43mtranslate_spanish_to_english\u001b[49m\u001b[43m(\u001b[49m\u001b[43mtoken\u001b[49m\u001b[43m)\u001b[49m\n\u001b[1;32m     11\u001b[0m     translated_tokens\u001b[38;5;241m.\u001b[39mappend(translated_token)\n\u001b[1;32m     13\u001b[0m \u001b[38;5;66;03m# Unir los tokens traducidos en un texto en inglés\u001b[39;00m\n",
      "Cell \u001b[0;32mIn[15], line 3\u001b[0m, in \u001b[0;36mtranslate_spanish_to_english\u001b[0;34m(text)\u001b[0m\n\u001b[1;32m      1\u001b[0m \u001b[38;5;28;01mdef\u001b[39;00m \u001b[38;5;21mtranslate_spanish_to_english\u001b[39m(text):\n\u001b[1;32m      2\u001b[0m     translator \u001b[38;5;241m=\u001b[39m Translator(service_urls\u001b[38;5;241m=\u001b[39m[\u001b[38;5;124m'\u001b[39m\u001b[38;5;124mtranslate.google.com\u001b[39m\u001b[38;5;124m'\u001b[39m])\n\u001b[0;32m----> 3\u001b[0m     translation \u001b[38;5;241m=\u001b[39m \u001b[43mtranslator\u001b[49m\u001b[38;5;241;43m.\u001b[39;49m\u001b[43mtranslate\u001b[49m\u001b[43m(\u001b[49m\u001b[43mtext\u001b[49m\u001b[43m,\u001b[49m\u001b[43m \u001b[49m\u001b[43msrc\u001b[49m\u001b[38;5;241;43m=\u001b[39;49m\u001b[38;5;124;43m'\u001b[39;49m\u001b[38;5;124;43mes\u001b[39;49m\u001b[38;5;124;43m'\u001b[39;49m\u001b[43m,\u001b[49m\u001b[43m \u001b[49m\u001b[43mdest\u001b[49m\u001b[38;5;241;43m=\u001b[39;49m\u001b[38;5;124;43m'\u001b[39;49m\u001b[38;5;124;43men\u001b[39;49m\u001b[38;5;124;43m'\u001b[39;49m\u001b[43m)\u001b[49m\n\u001b[1;32m      4\u001b[0m     \u001b[38;5;28;01mreturn\u001b[39;00m translation\u001b[38;5;241m.\u001b[39mtext\n",
      "File \u001b[0;32m~/.local/lib/python3.10/site-packages/googletrans/client.py:222\u001b[0m, in \u001b[0;36mTranslator.translate\u001b[0;34m(self, text, dest, src)\u001b[0m\n\u001b[1;32m    220\u001b[0m \u001b[38;5;66;03m# not sure\u001b[39;00m\n\u001b[1;32m    221\u001b[0m should_spacing \u001b[38;5;241m=\u001b[39m parsed[\u001b[38;5;241m1\u001b[39m][\u001b[38;5;241m0\u001b[39m][\u001b[38;5;241m0\u001b[39m][\u001b[38;5;241m3\u001b[39m]\n\u001b[0;32m--> 222\u001b[0m translated_parts \u001b[38;5;241m=\u001b[39m \u001b[38;5;28mlist\u001b[39m(\u001b[38;5;28mmap\u001b[39m(\u001b[38;5;28;01mlambda\u001b[39;00m part: TranslatedPart(part[\u001b[38;5;241m0\u001b[39m], part[\u001b[38;5;241m1\u001b[39m] \u001b[38;5;28;01mif\u001b[39;00m \u001b[38;5;28mlen\u001b[39m(part) \u001b[38;5;241m>\u001b[39m\u001b[38;5;241m=\u001b[39m \u001b[38;5;241m2\u001b[39m \u001b[38;5;28;01melse\u001b[39;00m []), \u001b[43mparsed\u001b[49m\u001b[43m[\u001b[49m\u001b[38;5;241;43m1\u001b[39;49m\u001b[43m]\u001b[49m\u001b[43m[\u001b[49m\u001b[38;5;241;43m0\u001b[39;49m\u001b[43m]\u001b[49m\u001b[43m[\u001b[49m\u001b[38;5;241;43m0\u001b[39;49m\u001b[43m]\u001b[49m\u001b[43m[\u001b[49m\u001b[38;5;241;43m5\u001b[39;49m\u001b[43m]\u001b[49m))\n\u001b[1;32m    223\u001b[0m translated \u001b[38;5;241m=\u001b[39m (\u001b[38;5;124m'\u001b[39m\u001b[38;5;124m \u001b[39m\u001b[38;5;124m'\u001b[39m \u001b[38;5;28;01mif\u001b[39;00m should_spacing \u001b[38;5;28;01melse\u001b[39;00m \u001b[38;5;124m'\u001b[39m\u001b[38;5;124m'\u001b[39m)\u001b[38;5;241m.\u001b[39mjoin(\u001b[38;5;28mmap\u001b[39m(\u001b[38;5;28;01mlambda\u001b[39;00m part: part\u001b[38;5;241m.\u001b[39mtext, translated_parts))\n\u001b[1;32m    225\u001b[0m \u001b[38;5;28;01mif\u001b[39;00m src \u001b[38;5;241m==\u001b[39m \u001b[38;5;124m'\u001b[39m\u001b[38;5;124mauto\u001b[39m\u001b[38;5;124m'\u001b[39m:\n",
      "\u001b[0;31mIndexError\u001b[0m: list index out of range"
     ]
    }
   ],
   "source": [
    "#En respuesta a error\n",
    "#nltk = nltk.download('punkt')\n",
    "\n",
    "# Tokenización del texto en español\n",
    "tokens = word_tokenize(texto_espanol)\n",
    "\n",
    "# Traducción de cada token de español a inglés\n",
    "translated_tokens = []\n",
    "for token in tokens:\n",
    "    translated_token = translate_spanish_to_english(token)\n",
    "    translated_tokens.append(translated_token)\n",
    "\n",
    "# Unir los tokens traducidos en un texto en inglés\n",
    "texto_ingles = ' '.join(translated_tokens)\n",
    "\n",
    "\n"
   ]
  },
  {
   "cell_type": "markdown",
   "id": "07f97edb",
   "metadata": {},
   "source": [
    "Escribe la salida en archivo"
   ]
  },
  {
   "cell_type": "code",
   "execution_count": null,
   "id": "2f666bee",
   "metadata": {},
   "outputs": [],
   "source": [
    "# Escribir el resultado en el archivo de salida\n",
    "with open(ruta_archivo_salida, 'w', encoding='utf-8') as archivo_salida:\n",
    "    archivo_salida.write(texto_ingles)\n",
    "\n",
    "print(\"Traducción completada. El resultado se ha guardado en:\", ruta_archivo_salida)"
   ]
  },
  {
   "cell_type": "code",
   "execution_count": null,
   "id": "af36dca6",
   "metadata": {},
   "outputs": [],
   "source": []
  }
 ],
 "metadata": {
  "kernelspec": {
   "display_name": "Python 3 (ipykernel)",
   "language": "python",
   "name": "python3"
  },
  "language_info": {
   "codemirror_mode": {
    "name": "ipython",
    "version": 3
   },
   "file_extension": ".py",
   "mimetype": "text/x-python",
   "name": "python",
   "nbconvert_exporter": "python",
   "pygments_lexer": "ipython3",
   "version": "3.11.7"
  }
 },
 "nbformat": 4,
 "nbformat_minor": 5
}
