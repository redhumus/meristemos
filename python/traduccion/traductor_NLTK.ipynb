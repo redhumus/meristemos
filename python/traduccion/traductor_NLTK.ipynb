{
 "cells": [
  {
   "cell_type": "markdown",
   "id": "824f85cb",
   "metadata": {},
   "source": [
    "# Traductor "
   ]
  },
  {
   "cell_type": "markdown",
   "id": "0b24398d",
   "metadata": {},
   "source": [
    "## importa NLTK\n",
    "\n",
    "la biblioteca nltk (Natural Language Toolkit) es una opción que se acerca más a ser software libre. NLTK es una biblioteca de procesamiento de lenguaje natural ampliamente utilizada y de código abierto que ofrece una amplia gama de funcionalidades para tareas de procesamiento de texto, incluida la traducción.\n",
    "\n",
    "NLTK es una biblioteca gratuita y de código abierto distribuida bajo la licencia Apache 2.0. \n",
    "\n",
    "Importa Google Translate"
   ]
  },
  {
   "cell_type": "code",
   "execution_count": 2,
   "id": "92cef58d",
   "metadata": {},
   "outputs": [],
   "source": [
    "from nltk.tokenize import word_tokenize\n",
    "from googletrans import Translator"
   ]
  },
  {
   "cell_type": "markdown",
   "id": "14106432",
   "metadata": {},
   "source": [
    "Función: Tarea de traducción"
   ]
  },
  {
   "cell_type": "code",
   "execution_count": null,
   "id": "a1159bb1",
   "metadata": {},
   "outputs": [],
   "source": [
    "def translate_spanish_to_english(text):\n",
    "    translator = Translator(service_urls=['translate.google.com'])\n",
    "    translation = translator.translate(text, src='es', dest='en')\n",
    "    return translation.text"
   ]
  },
  {
   "cell_type": "code",
   "execution_count": null,
   "id": "a2750940",
   "metadata": {},
   "outputs": [],
   "source": [
    "\n",
    "\n",
    "# Ruta del archivo de texto de entrada (español)\n",
    "ruta_archivo_entrada = 'ruta/del/archivo/entrada.txt'\n",
    "\n",
    "# Ruta del archivo de texto de salida (inglés)\n",
    "ruta_archivo_salida = 'ruta/del/archivo/salida.txt'\n",
    "\n",
    "# Leer el texto de entrada desde el archivo\n",
    "with open(ruta_archivo_entrada, 'r', encoding='utf-8') as archivo_entrada:\n",
    "    texto_espanol = archivo_entrada.read()\n",
    "\n",
    "# Tokenización del texto en español\n",
    "tokens = word_tokenize(texto_espanol)\n",
    "\n",
    "# Traducción de cada token de español a inglés\n",
    "translated_tokens = []\n",
    "for token in tokens:\n",
    "    translated_token = translate_spanish_to_english(token)\n",
    "    translated_tokens.append(translated_token)\n",
    "\n",
    "# Unir los tokens traducidos en un texto en inglés\n",
    "texto_ingles = ' '.join(translated_tokens)\n",
    "\n",
    "# Escribir el resultado en el archivo de salida\n",
    "with open(ruta_archivo_salida, 'w', encoding='utf-8') as archivo_salida:\n",
    "    archivo_salida.write(texto_ingles)\n",
    "\n",
    "print(\"Traducción completada. El resultado se ha guardado en:\", ruta_archivo_salida)\n"
   ]
  },
  {
   "cell_type": "code",
   "execution_count": null,
   "id": "3ceb83ab",
   "metadata": {},
   "outputs": [],
   "source": []
  },
  {
   "cell_type": "code",
   "execution_count": null,
   "id": "3b9ecd7d",
   "metadata": {},
   "outputs": [],
   "source": []
  },
  {
   "cell_type": "code",
   "execution_count": null,
   "id": "3d9409ef",
   "metadata": {},
   "outputs": [],
   "source": []
  }
 ],
 "metadata": {
  "kernelspec": {
   "display_name": "Python 3 (ipykernel)",
   "language": "python",
   "name": "python3"
  },
  "language_info": {
   "codemirror_mode": {
    "name": "ipython",
    "version": 3
   },
   "file_extension": ".py",
   "mimetype": "text/x-python",
   "name": "python",
   "nbconvert_exporter": "python",
   "pygments_lexer": "ipython3",
   "version": "3.11.7"
  }
 },
 "nbformat": 4,
 "nbformat_minor": 5
}
