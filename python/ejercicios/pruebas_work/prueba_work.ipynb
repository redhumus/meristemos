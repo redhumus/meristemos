{
 "cells": [
  {
   "cell_type": "code",
   "execution_count": 4,
   "id": "e4623bbf-24c6-44a1-a3c3-cea4bb1b7141",
   "metadata": {},
   "outputs": [
    {
     "name": "stdout",
     "output_type": "stream",
     "text": [
      "Original: good luck trying to figure out how this was scrambled :)\n",
      "scrambled: ): delbmarcs saw siht woh tuo erugif ot gniyrt kcul doog\n"
     ]
    }
   ],
   "source": [
    "frase = \"good luck trying to figure out how this was scrambled :)\"\n",
    "frase_reversa = frase [::-1]\n",
    "print(\"Original:\",frase)\n",
    "print(\"scrambled:\",frase_reversa)\n"
   ]
  },
  {
   "cell_type": "code",
   "execution_count": null,
   "id": "89786e40-8a8e-4fc6-bd4f-def6b10ec62f",
   "metadata": {},
   "outputs": [],
   "source": []
  }
 ],
 "metadata": {
  "kernelspec": {
   "display_name": "Python 3 (ipykernel)",
   "language": "python",
   "name": "python3"
  },
  "language_info": {
   "codemirror_mode": {
    "name": "ipython",
    "version": 3
   },
   "file_extension": ".py",
   "mimetype": "text/x-python",
   "name": "python",
   "nbconvert_exporter": "python",
   "pygments_lexer": "ipython3",
   "version": "3.11.6"
  }
 },
 "nbformat": 4,
 "nbformat_minor": 5
}
