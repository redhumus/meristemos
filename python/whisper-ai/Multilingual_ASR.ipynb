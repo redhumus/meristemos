{
 "cells": [
  {
   "cell_type": "markdown",
   "metadata": {
    "id": "v5hvo8QWN-a9"
   },
   "source": [
    "# Installing Whisper\n",
    "\n",
    "The commands below will install the Python packages needed to use Whisper models and evaluate the transcription results."
   ]
  },
  {
   "cell_type": "code",
   "execution_count": 1,
   "metadata": {
    "id": "ZsJUxc0aRsAf"
   },
   "outputs": [],
   "source": [
    "# ! pip install git+https://github.com/openai/whisper.git\n",
    "# Comentado porque ya quedó instalado en local"
   ]
  },
  {
   "cell_type": "code",
   "execution_count": 1,
   "metadata": {
    "id": "3CqtR2Fi5-vP"
   },
   "outputs": [],
   "source": [
    "import io\n",
    "import os\n",
    "import numpy as np\n",
    "\n",
    "try:\n",
    "    import tensorflow  # required in Colab to avoid protobuf compatibility issues\n",
    "except ImportError:\n",
    "    pass\n",
    "\n",
    "import torch\n",
    "import pandas as pd\n",
    "import urllib\n",
    "import tarfile\n",
    "import whisper\n",
    "import torchaudio\n",
    "\n",
    "from scipy.io import wavfile\n",
    "from tqdm.notebook import tqdm\n",
    "\n",
    "\n",
    "pd.options.display.max_rows = 100\n",
    "pd.options.display.max_colwidth = 1000\n",
    "DEVICE = \"cuda\" if torch.cuda.is_available() else \"cpu\""
   ]
  },
  {
   "cell_type": "markdown",
   "metadata": {
    "id": "1IMEkgyagYto"
   },
   "source": [
    "# Loading the Fleurs dataset\n",
    "\n",
    "Select the language of the Fleur dataset to download. Please note that the transcription and translation performance varies widely depending on the language. Appendix D.2 in the paper contains the performance breakdown by language."
   ]
  },
  {
   "cell_type": "code",
   "execution_count": 3,
   "metadata": {
    "colab": {
     "base_uri": "https://localhost:8080/",
     "height": 49,
     "referenced_widgets": [
      "d36195a3d8184ec98132aa9e857bcc64",
      "10736c04e5b94344a9e948a89b859d8a",
      "d458d02a2dfe45ae918cbb1d53f4abfe"
     ]
    },
    "id": "L4lPK5106Of2",
    "outputId": "313c1993-fb43-4315-800a-fc7cf34d7be5"
   },
   "outputs": [
    {
     "data": {
      "application/vnd.jupyter.widget-view+json": {
       "model_id": "393907115aab4dfc8126ed0e0855174e",
       "version_major": 2,
       "version_minor": 0
      },
      "text/plain": [
       "Dropdown(description='Language:', index=69, options=(('Select language', None), ('----------', None), ('Afrika…"
      ]
     },
     "execution_count": 3,
     "metadata": {},
     "output_type": "execute_result"
    }
   ],
   "source": [
    "import ipywidgets as widgets\n",
    "\n",
    "languages = {\"af_za\": \"Afrikaans\", \"am_et\": \"Amharic\", \"ar_eg\": \"Arabic\", \"as_in\": \"Assamese\", \"az_az\": \"Azerbaijani\", \"be_by\": \"Belarusian\", \"bg_bg\": \"Bulgarian\", \"bn_in\": \"Bengali\", \"bs_ba\": \"Bosnian\", \"ca_es\": \"Catalan\", \"cmn_hans_cn\": \"Chinese\", \"cs_cz\": \"Czech\", \"cy_gb\": \"Welsh\", \"da_dk\": \"Danish\", \"de_de\": \"German\", \"el_gr\": \"Greek\", \"en_us\": \"English\", \"es_419\": \"Spanish\", \"et_ee\": \"Estonian\", \"fa_ir\": \"Persian\", \"fi_fi\": \"Finnish\", \"fil_ph\": \"Tagalog\", \"fr_fr\": \"French\", \"gl_es\": \"Galician\", \"gu_in\": \"Gujarati\", \"ha_ng\": \"Hausa\", \"he_il\": \"Hebrew\", \"hi_in\": \"Hindi\", \"hr_hr\": \"Croatian\", \"hu_hu\": \"Hungarian\", \"hy_am\": \"Armenian\", \"id_id\": \"Indonesian\", \"is_is\": \"Icelandic\", \"it_it\": \"Italian\", \"ja_jp\": \"Japanese\", \"jv_id\": \"Javanese\", \"ka_ge\": \"Georgian\", \"kk_kz\": \"Kazakh\", \"km_kh\": \"Khmer\", \"kn_in\": \"Kannada\", \"ko_kr\": \"Korean\", \"lb_lu\": \"Luxembourgish\", \"ln_cd\": \"Lingala\", \"lo_la\": \"Lao\", \"lt_lt\": \"Lithuanian\", \"lv_lv\": \"Latvian\", \"mi_nz\": \"Maori\", \"mk_mk\": \"Macedonian\", \"ml_in\": \"Malayalam\", \"mn_mn\": \"Mongolian\", \"mr_in\": \"Marathi\", \"ms_my\": \"Malay\", \"mt_mt\": \"Maltese\", \"my_mm\": \"Myanmar\", \"nb_no\": \"Norwegian\", \"ne_np\": \"Nepali\", \"nl_nl\": \"Dutch\", \"oc_fr\": \"Occitan\", \"pa_in\": \"Punjabi\", \"pl_pl\": \"Polish\", \"ps_af\": \"Pashto\", \"pt_br\": \"Portuguese\", \"ro_ro\": \"Romanian\", \"ru_ru\": \"Russian\", \"sd_in\": \"Sindhi\", \"sk_sk\": \"Slovak\", \"sl_si\": \"Slovenian\", \"sn_zw\": \"Shona\", \"so_so\": \"Somali\", \"sr_rs\": \"Serbian\", \"sv_se\": \"Swedish\", \"sw_ke\": \"Swahili\", \"ta_in\": \"Tamil\", \"te_in\": \"Telugu\", \"tg_tj\": \"Tajik\", \"th_th\": \"Thai\", \"tr_tr\": \"Turkish\", \"uk_ua\": \"Ukrainian\", \"ur_pk\": \"Urdu\", \"uz_uz\": \"Uzbek\", \"vi_vn\": \"Vietnamese\", \"yo_ng\": \"Yoruba\"}\n",
    "selection = widgets.Dropdown(\n",
    "    options=[(\"Select language\", None), (\"----------\", None)] + sorted([(f\"{v} ({k})\", k) for k, v in languages.items()]),\n",
    "    value=\"es_419\",\n",
    "    description='Language:',\n",
    "    disabled=False,\n",
    ")\n",
    "\n",
    "selection"
   ]
  },
  {
   "cell_type": "code",
   "execution_count": 4,
   "metadata": {
    "colab": {
     "base_uri": "https://localhost:8080/"
    },
    "id": "4eihI6oK6Of2",
    "outputId": "42874540-06ec-442a-aa14-71f52f964de0"
   },
   "outputs": [
    {
     "name": "stdout",
     "output_type": "stream",
     "text": [
      "Selected language: Spanish (es_419)\n"
     ]
    }
   ],
   "source": [
    "lang = selection.value\n",
    "language = languages[lang]\n",
    "\n",
    "assert lang is not None, \"Please select a language\"\n",
    "print(f\"Selected language: {language} ({lang})\")"
   ]
  },
  {
   "cell_type": "code",
   "execution_count": 5,
   "metadata": {
    "id": "GuCCB2KYOJCE"
   },
   "outputs": [],
   "source": [
    "#crear archivo de texto\n",
    "f = open('eli-corta2.txt','a')\n",
    "\n",
    "#whispereando tomado de https://github.com/openai/whisper\n",
    "\n",
    "audio = \"corta-eli.mp3\"\n"
   ]
  },
  {
   "cell_type": "markdown",
   "metadata": {
    "id": "0ljocCNuUAde"
   },
   "source": [
    "# Running inference on the dataset using a BASIC (proque en mi CPU no deja más) Whisper model\n",
    "\n",
    "The following will take a few minutes to transcribe and translate utterances in the dataset."
   ]
  },
  {
   "cell_type": "code",
   "execution_count": 6,
   "metadata": {
    "colab": {
     "base_uri": "https://localhost:8080/"
    },
    "id": "_PokfNJtOYNu",
    "outputId": "7d848480-a589-42c5-d456-611522091f51"
   },
   "outputs": [
    {
     "name": "stdout",
     "output_type": "stream",
     "text": [
      "Model is multilingual and has 71,825,920 parameters.\n"
     ]
    }
   ],
   "source": [
    "model = whisper.load_model(\"base\")\n",
    "\n",
    "f.write(\n",
    "    f\"Model is {'multilingual' if model.is_multilingual else 'English-only'} \"\n",
    "    f\"and has {sum(np.prod(p.shape) for p in model.parameters()):,} parameters.\"\n",
    ")\n",
    "\n",
    "# No se como poner las dos acciones en ua sola sentencia\n",
    "print(\n",
    "    f\"Model is {'multilingual' if model.is_multilingual else 'English-only'} \"\n",
    "    f\"and has {sum(np.prod(p.shape) for p in model.parameters()):,} parameters.\"\n",
    ")\n"
   ]
  },
  {
   "cell_type": "code",
   "execution_count": 7,
   "metadata": {
    "id": "F74Yfr696Of5"
   },
   "outputs": [],
   "source": [
    "options = dict(language=language, beam_size=5, best_of=5)\n",
    "transcribe_options = dict(task=\"transcribe\", **options)\n",
    "translate_options = dict(task=\"translate\", **options)"
   ]
  },
  {
   "cell_type": "code",
   "execution_count": 14,
   "metadata": {
    "colab": {
     "base_uri": "https://localhost:8080/",
     "height": 49,
     "referenced_widgets": [
      "97bfe56acfa04fd4899ece60a26bee17",
      "4ca421b430b54f5ba66bf981e4d4e003",
      "ad6e4f8221c843f9b406d5bf18206aab",
      "e7ca545307994521996af790a22497bf",
      "822ae53e841b42008c5aefb9cc7da64a",
      "37a30b9b7bd34421bd3d0679b81d8bad",
      "61dee3eff0b14127b06de151cabb5bf8",
      "0ed86ac53e8146eca0ab4aa7e9e8da19",
      "8b1c829b6c2b47a280069b758a6dec2b",
      "3f2f720394cd406eac1487e37994a9b8",
      "ddefd1c4b2174b538a1df784050899d7"
     ]
    },
    "id": "7OWTn_KvNk59",
    "outputId": "31cfe3bd-73dd-489b-b972-1920d727afce"
   },
   "outputs": [
    {
     "name": "stderr",
     "output_type": "stream",
     "text": [
      "/home/omnibus/.local/lib/python3.10/site-packages/whisper/transcribe.py:78: UserWarning: FP16 is not supported on CPU; using FP32 instead\n",
      "  warnings.warn(\"FP16 is not supported on CPU; using FP32 instead\")\n"
     ]
    }
   ],
   "source": [
    "#references = []\n",
    "transcriptions = []\n",
    "#translations = []\n",
    "\n",
    "transcription = model.transcribe('corta-eli.mp3')\n",
    "#translation = model.transcribe(audio, **translate_options)[\"text\"]\n",
    "    \n",
    "transcriptions.append(transcription)\n",
    "  #  translations.append(translation)\n",
    "#references.append(text)"
   ]
  },
  {
   "cell_type": "code",
   "execution_count": 15,
   "metadata": {
    "colab": {
     "base_uri": "https://localhost:8080/",
     "height": 1000
    },
    "id": "4nTyynELQ42j",
    "outputId": "869c720e-672d-40a4-af30-6ce548c6ccea"
   },
   "outputs": [
    {
     "data": {
      "text/html": [
       "<div>\n",
       "<style scoped>\n",
       "    .dataframe tbody tr th:only-of-type {\n",
       "        vertical-align: middle;\n",
       "    }\n",
       "\n",
       "    .dataframe tbody tr th {\n",
       "        vertical-align: top;\n",
       "    }\n",
       "\n",
       "    .dataframe thead th {\n",
       "        text-align: right;\n",
       "    }\n",
       "</style>\n",
       "<table border=\"1\" class=\"dataframe\">\n",
       "  <thead>\n",
       "    <tr style=\"text-align: right;\">\n",
       "      <th></th>\n",
       "      <th>transcription</th>\n",
       "    </tr>\n",
       "  </thead>\n",
       "  <tbody>\n",
       "    <tr>\n",
       "      <th>0</th>\n",
       "      <td>{'text': ' Caramací o Felipe Cayet, Río Puerto de ese. ¿Cuál es tu nombre? Con Fleto Daisy, si no sé. Daisy Jimenez de Spinosa. ¿Cuántos años tienes? 27. ¿Ya te quieres quitar este? Sí, un año. Un año. Estamos a 18 de agosto. Un veinte veintidós. Bueno, Daisy. Me gustaría saber más un poquito acerca de cómo ves tú. ¿Los beneficios o los no beneficios o los problemas? ¿O cómo ves tú el que le jido haga manejo forestal? Para empezar, sabemos lo que es el manejo forestal. El corte de la madera, que viene el compredor, la saca, la vende y blabla. ¿Tú cómo mujer, cómo te identificas con eso? ¿Cómo ves tú ese proceso? ¿Qué te parece? Ah, pues, para mí me es un proceso muy bien, porque... A parte de ayudar a la comunidad con recursos, pues también el compredor de eso se vive, de un trabajo y de eso es que viene a talar los árboles. De ahí saca muchas cosas, saca, por ejemplo, muebles o diversas formas que se pueda construir con la madera. Entonces, nos beneficia mucho, podemos tener, por ...</td>\n",
       "    </tr>\n",
       "  </tbody>\n",
       "</table>\n",
       "</div>"
      ],
      "text/plain": [
       "                                                                                                                                                                                                                                                                                                                                                                                                                                                                                                                                                                                                                                                                                                                                                                                                                                                                                                                                                                                                                             transcription\n",
       "0  {'text': ' Caramací o Felipe Cayet, Río Puerto de ese. ¿Cuál es tu nombre? Con Fleto Daisy, si no sé. Daisy Jimenez de Spinosa. ¿Cuántos años tienes? 27. ¿Ya te quieres quitar este? Sí, un año. Un año. Estamos a 18 de agosto. Un veinte veintidós. Bueno, Daisy. Me gustaría saber más un poquito acerca de cómo ves tú. ¿Los beneficios o los no beneficios o los problemas? ¿O cómo ves tú el que le jido haga manejo forestal? Para empezar, sabemos lo que es el manejo forestal. El corte de la madera, que viene el compredor, la saca, la vende y blabla. ¿Tú cómo mujer, cómo te identificas con eso? ¿Cómo ves tú ese proceso? ¿Qué te parece? Ah, pues, para mí me es un proceso muy bien, porque... A parte de ayudar a la comunidad con recursos, pues también el compredor de eso se vive, de un trabajo y de eso es que viene a talar los árboles. De ahí saca muchas cosas, saca, por ejemplo, muebles o diversas formas que se pueda construir con la madera. Entonces, nos beneficia mucho, podemos tener, por ..."
      ]
     },
     "execution_count": 15,
     "metadata": {},
     "output_type": "execute_result"
    }
   ],
   "source": [
    "data = pd.DataFrame(dict(transcription=transcriptions))\n",
    "data"
   ]
  },
  {
   "cell_type": "markdown",
   "metadata": {
    "colab": {
     "base_uri": "https://localhost:8080/",
     "height": 49,
     "referenced_widgets": [
      "97bfe56acfa04fd4899ece60a26bee17",
      "4ca421b430b54f5ba66bf981e4d4e003",
      "ad6e4f8221c843f9b406d5bf18206aab",
      "e7ca545307994521996af790a22497bf",
      "822ae53e841b42008c5aefb9cc7da64a",
      "37a30b9b7bd34421bd3d0679b81d8bad",
      "61dee3eff0b14127b06de151cabb5bf8",
      "0ed86ac53e8146eca0ab4aa7e9e8da19",
      "8b1c829b6c2b47a280069b758a6dec2b",
      "3f2f720394cd406eac1487e37994a9b8",
      "ddefd1c4b2174b538a1df784050899d7"
     ]
    },
    "id": "7OWTn_KvNk59",
    "outputId": "31cfe3bd-73dd-489b-b972-1920d727afce"
   },
   "source": [
    "Escribimos en el archivo"
   ]
  },
  {
   "cell_type": "code",
   "execution_count": 28,
   "metadata": {
    "colab": {
     "base_uri": "https://localhost:8080/",
     "height": 49,
     "referenced_widgets": [
      "97bfe56acfa04fd4899ece60a26bee17",
      "4ca421b430b54f5ba66bf981e4d4e003",
      "ad6e4f8221c843f9b406d5bf18206aab",
      "e7ca545307994521996af790a22497bf",
      "822ae53e841b42008c5aefb9cc7da64a",
      "37a30b9b7bd34421bd3d0679b81d8bad",
      "61dee3eff0b14127b06de151cabb5bf8",
      "0ed86ac53e8146eca0ab4aa7e9e8da19",
      "8b1c829b6c2b47a280069b758a6dec2b",
      "3f2f720394cd406eac1487e37994a9b8",
      "ddefd1c4b2174b538a1df784050899d7"
     ]
    },
    "id": "7OWTn_KvNk59",
    "outputId": "31cfe3bd-73dd-489b-b972-1920d727afce"
   },
   "outputs": [],
   "source": [
    "f.write('\\n' + '<<<<<<<<<<<<<<<<<<<Inicio transcripción><<<<<>>>>>>>>>>>>' + '\\n')\n",
    "f.write(transcription[\"text\"])\n",
    "f.write('\\n' + '<<<<<<<<<<<<<<<<<<<fin transcripcion>>>>>>>>>>>>>>>>>>>>>' + '\\n')\n",
    "f.close()"
   ]
  },
  {
   "cell_type": "code",
   "execution_count": null,
   "metadata": {},
   "outputs": [],
   "source": []
  }
 ],
 "metadata": {
  "accelerator": "GPU",
  "colab": {
   "collapsed_sections": [],
   "provenance": []
  },
  "gpuClass": "standard",
  "kernelspec": {
   "display_name": "Python 3 (ipykernel)",
   "language": "python",
   "name": "python3"
  },
  "language_info": {
   "codemirror_mode": {
    "name": "ipython",
    "version": 3
   },
   "file_extension": ".py",
   "mimetype": "text/x-python",
   "name": "python",
   "nbconvert_exporter": "python",
   "pygments_lexer": "ipython3",
   "version": "3.10.6"
  },
  "widgets": {
   "application/vnd.jupyter.widget-state+json": {
    "0ed86ac53e8146eca0ab4aa7e9e8da19": {
     "model_module": "@jupyter-widgets/base",
     "model_module_version": "1.2.0",
     "model_name": "LayoutModel",
     "state": {
      "_model_module": "@jupyter-widgets/base",
      "_model_module_version": "1.2.0",
      "_model_name": "LayoutModel",
      "_view_count": null,
      "_view_module": "@jupyter-widgets/base",
      "_view_module_version": "1.2.0",
      "_view_name": "LayoutView",
      "align_content": null,
      "align_items": null,
      "align_self": null,
      "border": null,
      "bottom": null,
      "display": null,
      "flex": null,
      "flex_flow": null,
      "grid_area": null,
      "grid_auto_columns": null,
      "grid_auto_flow": null,
      "grid_auto_rows": null,
      "grid_column": null,
      "grid_gap": null,
      "grid_row": null,
      "grid_template_areas": null,
      "grid_template_columns": null,
      "grid_template_rows": null,
      "height": null,
      "justify_content": null,
      "justify_items": null,
      "left": null,
      "margin": null,
      "max_height": null,
      "max_width": null,
      "min_height": null,
      "min_width": null,
      "object_fit": null,
      "object_position": null,
      "order": null,
      "overflow": null,
      "overflow_x": null,
      "overflow_y": null,
      "padding": null,
      "right": null,
      "top": null,
      "visibility": null,
      "width": null
     }
    },
    "10736c04e5b94344a9e948a89b859d8a": {
     "model_module": "@jupyter-widgets/base",
     "model_module_version": "1.2.0",
     "model_name": "LayoutModel",
     "state": {
      "_model_module": "@jupyter-widgets/base",
      "_model_module_version": "1.2.0",
      "_model_name": "LayoutModel",
      "_view_count": null,
      "_view_module": "@jupyter-widgets/base",
      "_view_module_version": "1.2.0",
      "_view_name": "LayoutView",
      "align_content": null,
      "align_items": null,
      "align_self": null,
      "border": null,
      "bottom": null,
      "display": null,
      "flex": null,
      "flex_flow": null,
      "grid_area": null,
      "grid_auto_columns": null,
      "grid_auto_flow": null,
      "grid_auto_rows": null,
      "grid_column": null,
      "grid_gap": null,
      "grid_row": null,
      "grid_template_areas": null,
      "grid_template_columns": null,
      "grid_template_rows": null,
      "height": null,
      "justify_content": null,
      "justify_items": null,
      "left": null,
      "margin": null,
      "max_height": null,
      "max_width": null,
      "min_height": null,
      "min_width": null,
      "object_fit": null,
      "object_position": null,
      "order": null,
      "overflow": null,
      "overflow_x": null,
      "overflow_y": null,
      "padding": null,
      "right": null,
      "top": null,
      "visibility": null,
      "width": null
     }
    },
    "37a30b9b7bd34421bd3d0679b81d8bad": {
     "model_module": "@jupyter-widgets/base",
     "model_module_version": "1.2.0",
     "model_name": "LayoutModel",
     "state": {
      "_model_module": "@jupyter-widgets/base",
      "_model_module_version": "1.2.0",
      "_model_name": "LayoutModel",
      "_view_count": null,
      "_view_module": "@jupyter-widgets/base",
      "_view_module_version": "1.2.0",
      "_view_name": "LayoutView",
      "align_content": null,
      "align_items": null,
      "align_self": null,
      "border": null,
      "bottom": null,
      "display": null,
      "flex": null,
      "flex_flow": null,
      "grid_area": null,
      "grid_auto_columns": null,
      "grid_auto_flow": null,
      "grid_auto_rows": null,
      "grid_column": null,
      "grid_gap": null,
      "grid_row": null,
      "grid_template_areas": null,
      "grid_template_columns": null,
      "grid_template_rows": null,
      "height": null,
      "justify_content": null,
      "justify_items": null,
      "left": null,
      "margin": null,
      "max_height": null,
      "max_width": null,
      "min_height": null,
      "min_width": null,
      "object_fit": null,
      "object_position": null,
      "order": null,
      "overflow": null,
      "overflow_x": null,
      "overflow_y": null,
      "padding": null,
      "right": null,
      "top": null,
      "visibility": null,
      "width": null
     }
    },
    "3f2f720394cd406eac1487e37994a9b8": {
     "model_module": "@jupyter-widgets/base",
     "model_module_version": "1.2.0",
     "model_name": "LayoutModel",
     "state": {
      "_model_module": "@jupyter-widgets/base",
      "_model_module_version": "1.2.0",
      "_model_name": "LayoutModel",
      "_view_count": null,
      "_view_module": "@jupyter-widgets/base",
      "_view_module_version": "1.2.0",
      "_view_name": "LayoutView",
      "align_content": null,
      "align_items": null,
      "align_self": null,
      "border": null,
      "bottom": null,
      "display": null,
      "flex": null,
      "flex_flow": null,
      "grid_area": null,
      "grid_auto_columns": null,
      "grid_auto_flow": null,
      "grid_auto_rows": null,
      "grid_column": null,
      "grid_gap": null,
      "grid_row": null,
      "grid_template_areas": null,
      "grid_template_columns": null,
      "grid_template_rows": null,
      "height": null,
      "justify_content": null,
      "justify_items": null,
      "left": null,
      "margin": null,
      "max_height": null,
      "max_width": null,
      "min_height": null,
      "min_width": null,
      "object_fit": null,
      "object_position": null,
      "order": null,
      "overflow": null,
      "overflow_x": null,
      "overflow_y": null,
      "padding": null,
      "right": null,
      "top": null,
      "visibility": null,
      "width": null
     }
    },
    "4ca421b430b54f5ba66bf981e4d4e003": {
     "model_module": "@jupyter-widgets/controls",
     "model_module_version": "1.5.0",
     "model_name": "HTMLModel",
     "state": {
      "_dom_classes": [],
      "_model_module": "@jupyter-widgets/controls",
      "_model_module_version": "1.5.0",
      "_model_name": "HTMLModel",
      "_view_count": null,
      "_view_module": "@jupyter-widgets/controls",
      "_view_module_version": "1.5.0",
      "_view_name": "HTMLView",
      "description": "",
      "description_tooltip": null,
      "layout": "IPY_MODEL_37a30b9b7bd34421bd3d0679b81d8bad",
      "placeholder": "​",
      "style": "IPY_MODEL_61dee3eff0b14127b06de151cabb5bf8",
      "value": "100%"
     }
    },
    "61dee3eff0b14127b06de151cabb5bf8": {
     "model_module": "@jupyter-widgets/controls",
     "model_module_version": "1.5.0",
     "model_name": "DescriptionStyleModel",
     "state": {
      "_model_module": "@jupyter-widgets/controls",
      "_model_module_version": "1.5.0",
      "_model_name": "DescriptionStyleModel",
      "_view_count": null,
      "_view_module": "@jupyter-widgets/base",
      "_view_module_version": "1.2.0",
      "_view_name": "StyleView",
      "description_width": ""
     }
    },
    "822ae53e841b42008c5aefb9cc7da64a": {
     "model_module": "@jupyter-widgets/base",
     "model_module_version": "1.2.0",
     "model_name": "LayoutModel",
     "state": {
      "_model_module": "@jupyter-widgets/base",
      "_model_module_version": "1.2.0",
      "_model_name": "LayoutModel",
      "_view_count": null,
      "_view_module": "@jupyter-widgets/base",
      "_view_module_version": "1.2.0",
      "_view_name": "LayoutView",
      "align_content": null,
      "align_items": null,
      "align_self": null,
      "border": null,
      "bottom": null,
      "display": null,
      "flex": null,
      "flex_flow": null,
      "grid_area": null,
      "grid_auto_columns": null,
      "grid_auto_flow": null,
      "grid_auto_rows": null,
      "grid_column": null,
      "grid_gap": null,
      "grid_row": null,
      "grid_template_areas": null,
      "grid_template_columns": null,
      "grid_template_rows": null,
      "height": null,
      "justify_content": null,
      "justify_items": null,
      "left": null,
      "margin": null,
      "max_height": null,
      "max_width": null,
      "min_height": null,
      "min_width": null,
      "object_fit": null,
      "object_position": null,
      "order": null,
      "overflow": null,
      "overflow_x": null,
      "overflow_y": null,
      "padding": null,
      "right": null,
      "top": null,
      "visibility": null,
      "width": null
     }
    },
    "8b1c829b6c2b47a280069b758a6dec2b": {
     "model_module": "@jupyter-widgets/controls",
     "model_module_version": "1.5.0",
     "model_name": "ProgressStyleModel",
     "state": {
      "_model_module": "@jupyter-widgets/controls",
      "_model_module_version": "1.5.0",
      "_model_name": "ProgressStyleModel",
      "_view_count": null,
      "_view_module": "@jupyter-widgets/base",
      "_view_module_version": "1.2.0",
      "_view_name": "StyleView",
      "bar_color": null,
      "description_width": ""
     }
    },
    "97bfe56acfa04fd4899ece60a26bee17": {
     "model_module": "@jupyter-widgets/controls",
     "model_module_version": "1.5.0",
     "model_name": "HBoxModel",
     "state": {
      "_dom_classes": [],
      "_model_module": "@jupyter-widgets/controls",
      "_model_module_version": "1.5.0",
      "_model_name": "HBoxModel",
      "_view_count": null,
      "_view_module": "@jupyter-widgets/controls",
      "_view_module_version": "1.5.0",
      "_view_name": "HBoxView",
      "box_style": "",
      "children": [
       "IPY_MODEL_4ca421b430b54f5ba66bf981e4d4e003",
       "IPY_MODEL_ad6e4f8221c843f9b406d5bf18206aab",
       "IPY_MODEL_e7ca545307994521996af790a22497bf"
      ],
      "layout": "IPY_MODEL_822ae53e841b42008c5aefb9cc7da64a"
     }
    },
    "ad6e4f8221c843f9b406d5bf18206aab": {
     "model_module": "@jupyter-widgets/controls",
     "model_module_version": "1.5.0",
     "model_name": "FloatProgressModel",
     "state": {
      "_dom_classes": [],
      "_model_module": "@jupyter-widgets/controls",
      "_model_module_version": "1.5.0",
      "_model_name": "FloatProgressModel",
      "_view_count": null,
      "_view_module": "@jupyter-widgets/controls",
      "_view_module_version": "1.5.0",
      "_view_name": "ProgressView",
      "bar_style": "success",
      "description": "",
      "description_tooltip": null,
      "layout": "IPY_MODEL_0ed86ac53e8146eca0ab4aa7e9e8da19",
      "max": 39,
      "min": 0,
      "orientation": "horizontal",
      "style": "IPY_MODEL_8b1c829b6c2b47a280069b758a6dec2b",
      "value": 39
     }
    },
    "d36195a3d8184ec98132aa9e857bcc64": {
     "model_module": "@jupyter-widgets/controls",
     "model_module_version": "1.5.0",
     "model_name": "DropdownModel",
     "state": {
      "_dom_classes": [],
      "_model_module": "@jupyter-widgets/controls",
      "_model_module_version": "1.5.0",
      "_model_name": "DropdownModel",
      "_options_labels": [
       "Select language",
       "----------",
       "Afrikaans (af_za)",
       "Amharic (am_et)",
       "Arabic (ar_eg)",
       "Armenian (hy_am)",
       "Assamese (as_in)",
       "Azerbaijani (az_az)",
       "Belarusian (be_by)",
       "Bengali (bn_in)",
       "Bosnian (bs_ba)",
       "Bulgarian (bg_bg)",
       "Catalan (ca_es)",
       "Chinese (cmn_hans_cn)",
       "Croatian (hr_hr)",
       "Czech (cs_cz)",
       "Danish (da_dk)",
       "Dutch (nl_nl)",
       "English (en_us)",
       "Estonian (et_ee)",
       "Finnish (fi_fi)",
       "French (fr_fr)",
       "Galician (gl_es)",
       "Georgian (ka_ge)",
       "German (de_de)",
       "Greek (el_gr)",
       "Gujarati (gu_in)",
       "Hausa (ha_ng)",
       "Hebrew (he_il)",
       "Hindi (hi_in)",
       "Hungarian (hu_hu)",
       "Icelandic (is_is)",
       "Indonesian (id_id)",
       "Italian (it_it)",
       "Japanese (ja_jp)",
       "Javanese (jv_id)",
       "Kannada (kn_in)",
       "Kazakh (kk_kz)",
       "Khmer (km_kh)",
       "Korean (ko_kr)",
       "Lao (lo_la)",
       "Latvian (lv_lv)",
       "Lingala (ln_cd)",
       "Lithuanian (lt_lt)",
       "Luxembourgish (lb_lu)",
       "Macedonian (mk_mk)",
       "Malay (ms_my)",
       "Malayalam (ml_in)",
       "Maltese (mt_mt)",
       "Maori (mi_nz)",
       "Marathi (mr_in)",
       "Mongolian (mn_mn)",
       "Myanmar (my_mm)",
       "Nepali (ne_np)",
       "Norwegian (nb_no)",
       "Occitan (oc_fr)",
       "Pashto (ps_af)",
       "Persian (fa_ir)",
       "Polish (pl_pl)",
       "Portuguese (pt_br)",
       "Punjabi (pa_in)",
       "Romanian (ro_ro)",
       "Russian (ru_ru)",
       "Serbian (sr_rs)",
       "Shona (sn_zw)",
       "Sindhi (sd_in)",
       "Slovak (sk_sk)",
       "Slovenian (sl_si)",
       "Somali (so_so)",
       "Spanish (es_419)",
       "Swahili (sw_ke)",
       "Swedish (sv_se)",
       "Tagalog (fil_ph)",
       "Tajik (tg_tj)",
       "Tamil (ta_in)",
       "Telugu (te_in)",
       "Thai (th_th)",
       "Turkish (tr_tr)",
       "Ukrainian (uk_ua)",
       "Urdu (ur_pk)",
       "Uzbek (uz_uz)",
       "Vietnamese (vi_vn)",
       "Welsh (cy_gb)",
       "Yoruba (yo_ng)"
      ],
      "_view_count": null,
      "_view_module": "@jupyter-widgets/controls",
      "_view_module_version": "1.5.0",
      "_view_name": "DropdownView",
      "description": "Language:",
      "description_tooltip": null,
      "disabled": false,
      "index": 39,
      "layout": "IPY_MODEL_10736c04e5b94344a9e948a89b859d8a",
      "style": "IPY_MODEL_d458d02a2dfe45ae918cbb1d53f4abfe"
     }
    },
    "d458d02a2dfe45ae918cbb1d53f4abfe": {
     "model_module": "@jupyter-widgets/controls",
     "model_module_version": "1.5.0",
     "model_name": "DescriptionStyleModel",
     "state": {
      "_model_module": "@jupyter-widgets/controls",
      "_model_module_version": "1.5.0",
      "_model_name": "DescriptionStyleModel",
      "_view_count": null,
      "_view_module": "@jupyter-widgets/base",
      "_view_module_version": "1.2.0",
      "_view_name": "StyleView",
      "description_width": ""
     }
    },
    "ddefd1c4b2174b538a1df784050899d7": {
     "model_module": "@jupyter-widgets/controls",
     "model_module_version": "1.5.0",
     "model_name": "DescriptionStyleModel",
     "state": {
      "_model_module": "@jupyter-widgets/controls",
      "_model_module_version": "1.5.0",
      "_model_name": "DescriptionStyleModel",
      "_view_count": null,
      "_view_module": "@jupyter-widgets/base",
      "_view_module_version": "1.2.0",
      "_view_name": "StyleView",
      "description_width": ""
     }
    },
    "e7ca545307994521996af790a22497bf": {
     "model_module": "@jupyter-widgets/controls",
     "model_module_version": "1.5.0",
     "model_name": "HTMLModel",
     "state": {
      "_dom_classes": [],
      "_model_module": "@jupyter-widgets/controls",
      "_model_module_version": "1.5.0",
      "_model_name": "HTMLModel",
      "_view_count": null,
      "_view_module": "@jupyter-widgets/controls",
      "_view_module_version": "1.5.0",
      "_view_name": "HTMLView",
      "description": "",
      "description_tooltip": null,
      "layout": "IPY_MODEL_3f2f720394cd406eac1487e37994a9b8",
      "placeholder": "​",
      "style": "IPY_MODEL_ddefd1c4b2174b538a1df784050899d7",
      "value": " 39/39 [05:47&lt;00:00,  9.52s/it]"
     }
    }
   }
  }
 },
 "nbformat": 4,
 "nbformat_minor": 4
}
