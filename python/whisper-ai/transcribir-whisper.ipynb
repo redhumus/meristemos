{
 "cells": [
  {
   "cell_type": "markdown",
   "id": "6b37d05f-d4dd-4808-b416-3cc9782c3034",
   "metadata": {},
   "source": [
    "Primero probamos a crear el archivo de escritura\n",
    "\n",
    "Luego corremos el transcriptor: tomado de https://github.com/openai/whisper"
   ]
  },
  {
   "cell_type": "code",
   "execution_count": 4,
   "id": "6b990b2d-2886-4d38-814c-ab8a8e3e245a",
   "metadata": {},
   "outputs": [
    {
     "name": "stderr",
     "output_type": "stream",
     "text": [
      "/home/omnibus/.local/lib/python3.10/site-packages/tqdm/auto.py:22: TqdmWarning: IProgress not found. Please update jupyter and ipywidgets. See https://ipywidgets.readthedocs.io/en/stable/user_install.html\n",
      "  from .autonotebook import tqdm as notebook_tqdm\n",
      "100%|███████████████████████████████████████| 139M/139M [00:55<00:00, 2.64MiB/s]\n",
      "/home/omnibus/.local/lib/python3.10/site-packages/whisper/transcribe.py:78: UserWarning: FP16 is not supported on CPU; using FP32 instead\n",
      "  warnings.warn(\"FP16 is not supported on CPU; using FP32 instead\")\n"
     ]
    }
   ],
   "source": [
    "import whisper\n",
    "\n",
    "\n",
    "#crear archivo de texto\n",
    "f = open('transcripcion.txt','a')\n",
    "\n",
    "#whispereando tomado de https://github.com/openai/whisper\n",
    "\n",
    "model = whisper.load_model(\"base\")\n",
    "result = model.transcribe(\"SanSebastian1.m4a\")\n",
    "f.write('\\n' + '<<<<<<<<<<<<<<<<<<<Inicio transcripción><<<<<>>>>>>>>>>>>')\n",
    "f.write(result[\"text\"])\n",
    "f.write('\\n' + '<<<<<<<<<<<<<<<<<<<fin transcripcion>>>>>>>>>>>>>>>>>>>>>')\n",
    "f.close()"
   ]
  },
  {
   "cell_type": "code",
   "execution_count": null,
   "id": "604b0f73-8a73-4009-8969-54ae808101dd",
   "metadata": {},
   "outputs": [],
   "source": []
  }
 ],
 "metadata": {
  "kernelspec": {
   "display_name": "Python 3 (ipykernel)",
   "language": "python",
   "name": "python3"
  },
  "language_info": {
   "codemirror_mode": {
    "name": "ipython",
    "version": 3
   },
   "file_extension": ".py",
   "mimetype": "text/x-python",
   "name": "python",
   "nbconvert_exporter": "python",
   "pygments_lexer": "ipython3",
   "version": "3.10.6"
  }
 },
 "nbformat": 4,
 "nbformat_minor": 5
}
